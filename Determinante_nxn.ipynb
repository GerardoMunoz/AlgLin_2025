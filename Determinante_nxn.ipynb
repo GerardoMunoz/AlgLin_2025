{
  "cells": [
    {
      "cell_type": "code",
      "execution_count": 1,
      "metadata": {
        "collapsed": true,
        "cellView": "form",
        "id": "UEGMS20-jiZg"
      },
      "outputs": [],
      "source": [
        "# @title\n",
        "#from sympy import * # Librería para operaciones simbólicas\n",
        "#from ubogsla18p import * # Librería personal\n",
        "import IPython\n",
        "def imprimir(*datos):\n",
        " salida=''\n",
        " for a in datos:\n",
        "  if not(isinstance(a,str)):\n",
        "    a=sp.latex(a)\n",
        "  salida=salida+a\n",
        " return IPython.display.Latex('$'+salida+'$')\n",
        "\n"
      ]
    },
    {
      "cell_type": "markdown",
      "source": [
        "# Recorderis:\n",
        "\n",
        "\n",
        "1.  **El vector cruzado**   de un vector $\\vec{u}=\\begin{bmatrix}u_0\\\\u_1\\end{bmatrix}$ es un vector perpendicular con igual magnitud, definido así:\n",
        " $$\\begin{bmatrix}u_0\\\\u_1\\end{bmatrix}^\\times:=\\begin{bmatrix}u_1\\\\-u_0\\end{bmatrix}$$\n",
        "<!--Se puede verificar que $\\vec{u}\\cdot\\vec{u}^\\times==0$. Aunque es de resaltar que $\\vec{u}^\\times$ no es el único vector que cumple estas dos propiedad.-->\n",
        "\n",
        "2. El área de un paralelogramo en 2D formado por los vectores $\\vec{u}=\\begin{bmatrix}u_0\\\\u_1\\end{bmatrix}$,  $\\vec{v}=\\begin{bmatrix}v_0\\\\v_1\\end{bmatrix}$ es:\n",
        "$$\n",
        "\\begin{vmatrix}u_0 & v_0\\\\u_1 & v_1\\end{vmatrix}=\\begin{bmatrix}u_0\\\\u_1\\end{bmatrix}\\cdot\\begin{bmatrix}v_0\\\\v_1\\end{bmatrix}^\\times=\\begin{bmatrix}u_0\\\\u_1\\end{bmatrix}\\cdot\\begin{bmatrix}v_1\\\\-v_0\\end{bmatrix}=u_0 v_1 - u_1 v_0\n",
        "$$\n",
        "\n",
        "3. **El producto cruz** de los vectores $\\vec{u}$ y $\\vec{v}$ es un vector con dirección perpendicular a ambos y con magnitud igual al área del paralelogramo formado por los dos vectores, definido así:\n",
        "$$\n",
        "\\begin{bmatrix}u_0\\\\u_1\\\\u_2\\end{bmatrix} \\times \\begin{bmatrix}v_0\\\\v_1\\\\v_2\\end{bmatrix}\n",
        "=\\begin{bmatrix}u_1 v_2- u_2v_1\\\\-( u_0 v_2 - u_2 v_0)\\\\u_0 v_1- u_1 v_0\\end{bmatrix}\n",
        "$$\n",
        "<!--Se puede verificar que $\\vec{u}\\cdot(\\vec{u}\\times\\vec{v})==0$, $\\vec{v}\\cdot(\\vec{u}\\times\\vec{v})==0$. Aunque es de resaltar que $\\vec{u}\\times\\vec{v}$ no es el único vector que cumple estas dos propiedad.-->\n",
        "\n",
        "\n",
        "\n",
        "4. El área de un paralelogramo en 3D formado por los vectores $\\vec{u}=\\begin{bmatrix}u_0\\\\u_1\\\\u_2\\end{bmatrix}$,  $\\vec{v}=\\begin{bmatrix}v_0\\\\v_1\\\\v_2\\end{bmatrix}$ es:\n",
        "$$\n",
        "\\left|\\left| \\begin{bmatrix}u_0\\\\u_1\\\\u_2\\end{bmatrix} \\times \\begin{bmatrix}v_0\\\\v_1\\\\v_2\\end{bmatrix}\\right|\\right|\n",
        "=\\left|\\left|\\begin{bmatrix}u_1 v_2- u_2v_1\\\\-( u_0 v_2 - u_2 v_0)\\\\u_0 v_1- u_1 v_0\\end{bmatrix}\\right|\\right|\n",
        "$$\n",
        "\n",
        "5. El volumen de un paralelepipedo en 3D formado por los vectores $\\vec{u}=\\begin{bmatrix}u_0\\\\u_1\\\\u_2\\end{bmatrix}$,  $\\vec{v}=\\begin{bmatrix}v_0\\\\v_1\\\\v_2\\end{bmatrix}$, $\\vec{w}=\\begin{bmatrix}w_0\\\\w_1\\\\w_2\\end{bmatrix}$ es:\n",
        "$$\n",
        "\\begin{vmatrix}u_0 & v_0 & w_0\\\\u_1 & v_1 & w_1 \\\\u_2 & v_2 & w_2 \\end{vmatrix}=\\begin{bmatrix}u_0\\\\u_1\\\\u_2\\end{bmatrix}\\cdot\\left(\\begin{bmatrix}u_0\\\\u_1\\\\u_2\\end{bmatrix} \\times \\begin{bmatrix}v_0\\\\v_1\\\\v_2\\end{bmatrix}\\right)\n",
        "$$\n",
        "\n",
        "También recuerde qu $ñ=n-1$"
      ],
      "metadata": {
        "id": "EwACBNeosxCp"
      }
    },
    {
      "cell_type": "markdown",
      "metadata": {
        "id": "FUKZU0zBjiZh"
      },
      "source": [
        "# Determinante"
      ]
    },
    {
      "cell_type": "markdown",
      "metadata": {
        "id": "-nGHtt9hjiZh"
      },
      "source": [
        "## Menor y Cofactor\n",
        "\n",
        "Sea una matriz $A$ cuadrada de orden $n$ (es decir de tamaño $n \\times n$).\n",
        "* El __menor__($i,j$) de $A$ se representa por $$A{.}M(i,j)$$ y es el determinante que se obtiene  eliminando el $i$-ésimo renglón y la $j$-ésima columna de $A$.\n",
        "* El __cofactor__($i,j$) de $A$ es el signo $(-1)^{i+j}$ multiplicado por el menor (i,j) y se representa  $$A{.}C(i,j)=(-1)^{i+j}A{.}M(i,j)$$.\n",
        "* La __columna de cofactores__($j$) de $A$ está dada por el vector\n",
        "$$A{.}\\text{Ccol}(j)=\\begin{bmatrix} A{.}C_{0j} \\\\ A{.}C_{1j} \\\\ \\ldots \\\\ A{.}C_{ñj} \\end{bmatrix}$$\n",
        "\n",
        "### Ejemplos:\n"
      ]
    },
    {
      "cell_type": "code",
      "execution_count": 2,
      "metadata": {
        "cellView": "form",
        "colab": {
          "base_uri": "https://localhost:8080/",
          "height": 78
        },
        "id": "PCGD0BugjiZi",
        "outputId": "afb6ce0a-e5d8-4f45-cfd5-db6829353a8e"
      },
      "outputs": [
        {
          "output_type": "execute_result",
          "data": {
            "text/plain": [
              "<IPython.core.display.Latex object>"
            ],
            "text/latex": "$A=\\left[\\begin{matrix}a_{00} & a_{01} & a_{02}\\\\a_{10} & a_{11} & a_{12}\\\\a_{20} & a_{21} & a_{22}\\end{matrix}\\right]$"
          },
          "metadata": {},
          "execution_count": 2
        }
      ],
      "source": [
        "# @title\n",
        "import sympy as sp\n",
        "class Matrix(sp.Matrix):\n",
        "    def Ccol(self,j):\n",
        "        return sp.Matrix([self.cofactor(i,j) for i in range(self.rows)])\n",
        "\n",
        "\n",
        "A3=Matrix(sp.symbols('a:3:3')).reshape(3,3)\n",
        "imprimir('A=',A3)"
      ]
    },
    {
      "cell_type": "code",
      "execution_count": 3,
      "metadata": {
        "cellView": "form",
        "colab": {
          "base_uri": "https://localhost:8080/",
          "height": 38
        },
        "id": "xm0bOOufjiZj",
        "outputId": "e8eb4c6c-04c1-4fd6-b745-0ffcbd182114"
      },
      "outputs": [
        {
          "output_type": "execute_result",
          "data": {
            "text/plain": [
              "<IPython.core.display.Latex object>"
            ],
            "text/latex": "$A{.}M(1,2)=a_{00} a_{21} - a_{01} a_{20}$"
          },
          "metadata": {},
          "execution_count": 3
        }
      ],
      "source": [
        "# @title\n",
        "imprimir('A{.}M(1,2)=',A3.minorEntry(1,2))#Menor"
      ]
    },
    {
      "cell_type": "code",
      "execution_count": 4,
      "metadata": {
        "cellView": "form",
        "colab": {
          "base_uri": "https://localhost:8080/",
          "height": 38
        },
        "id": "F-_7dCmcjiZj",
        "outputId": "66535edb-eded-4c7c-9911-40d4ad74f9d8"
      },
      "outputs": [
        {
          "output_type": "execute_result",
          "data": {
            "text/plain": [
              "<IPython.core.display.Latex object>"
            ],
            "text/latex": "$A{.}C(1,2)=- a_{00} a_{21} + a_{01} a_{20}$"
          },
          "metadata": {},
          "execution_count": 4
        }
      ],
      "source": [
        "# @title\n",
        "imprimir('A{.}C(1,2)=',A3.cofactor(1,2))#Cofactor"
      ]
    },
    {
      "cell_type": "code",
      "execution_count": 5,
      "metadata": {
        "colab": {
          "base_uri": "https://localhost:8080/",
          "height": 78
        },
        "id": "N7FGz-4ajiZi",
        "outputId": "964c18d2-7970-416e-82fd-02ed9268f802"
      },
      "outputs": [
        {
          "output_type": "execute_result",
          "data": {
            "text/plain": [
              "<IPython.core.display.Latex object>"
            ],
            "text/latex": "$A{.}Ccol(2)=\\left[\\begin{matrix}a_{10} a_{21} - a_{11} a_{20}\\\\- a_{00} a_{21} + a_{01} a_{20}\\\\a_{00} a_{11} - a_{01} a_{10}\\end{matrix}\\right]$"
          },
          "metadata": {},
          "execution_count": 5
        }
      ],
      "source": [
        "imprimir('A{.}Ccol(2)=',A3.Ccol(2))"
      ]
    },
    {
      "cell_type": "markdown",
      "metadata": {
        "id": "OSm9hjkAjiZj"
      },
      "source": [
        "# Columna de cofactores y el determinante en 2D\n",
        "\n",
        "Si"
      ]
    },
    {
      "cell_type": "code",
      "execution_count": 6,
      "metadata": {
        "cellView": "form",
        "colab": {
          "base_uri": "https://localhost:8080/",
          "height": 58
        },
        "id": "rtOwI9QgjiZj",
        "outputId": "085d0ee8-ffa2-4ec7-bf16-83eba8f1c93a"
      },
      "outputs": [
        {
          "output_type": "execute_result",
          "data": {
            "text/plain": [
              "<IPython.core.display.Latex object>"
            ],
            "text/latex": "$A=\\left[\\begin{matrix}a & b\\\\c & d\\end{matrix}\\right]$"
          },
          "metadata": {},
          "execution_count": 6
        }
      ],
      "source": [
        "# @title\n",
        "a,b,c,d=sp.symbols('a b c d')\n",
        "A2=Matrix([[a, b],[c, d]])\n",
        "imprimir('A=',A2)"
      ]
    },
    {
      "cell_type": "markdown",
      "metadata": {
        "id": "B_hiiOWzjiZj"
      },
      "source": [
        "una columna $j$ de cofactores está dada por\n",
        "$$A{.}Ccol(j)=\\begin{bmatrix} C_{0j} \\\\ C_{1j} \\end{bmatrix}$$\n",
        "Por ejemplo, la columna 0 de cofactores de $A$ es"
      ]
    },
    {
      "cell_type": "code",
      "execution_count": 7,
      "metadata": {
        "cellView": "form",
        "colab": {
          "base_uri": "https://localhost:8080/",
          "height": 58
        },
        "id": "w5-9ZW4vjiZj",
        "outputId": "f129cd40-23c1-430b-8104-965917c8a0df"
      },
      "outputs": [
        {
          "output_type": "execute_result",
          "data": {
            "text/plain": [
              "<IPython.core.display.Latex object>"
            ],
            "text/latex": "$A.Ccol(0)=\\left[\\begin{matrix}d\\\\- b\\end{matrix}\\right]$"
          },
          "metadata": {},
          "execution_count": 7
        }
      ],
      "source": [
        "# @title\n",
        "imprimir('A.Ccol(0)=',A2.Ccol(0))"
      ]
    },
    {
      "cell_type": "markdown",
      "metadata": {
        "id": "JBxEgnf_jiZk"
      },
      "source": [
        "Que corresponde a un vector perpendicular a la otra columna con igual magnitud.\n",
        "\n",
        "Además, al hacer el producto punto de una columna con esa columna de cofactores obtenemos el determinante de la matriz\n",
        "$$A{.}Ccol(j) \\cdot A{.}col(j)  = \\begin{bmatrix} C_{0j} \\\\ C_{1j} \\end{bmatrix} \\cdot \\begin{bmatrix} a_{0j} \\\\ a_{1j} \\end{bmatrix}\n",
        "= C_{0j}  a_{0j} + C_{1j} a_{1j} $$\n",
        "En el caso de la columna 0 se tiene"
      ]
    },
    {
      "cell_type": "code",
      "execution_count": 8,
      "metadata": {
        "cellView": "form",
        "colab": {
          "base_uri": "https://localhost:8080/",
          "height": 58
        },
        "id": "U53-rq-wjiZk",
        "outputId": "7f2feb69-dcca-4545-9c78-e1310c8123b0"
      },
      "outputs": [
        {
          "output_type": "execute_result",
          "data": {
            "text/plain": [
              "<IPython.core.display.Latex object>"
            ],
            "text/latex": "$A.Ccol(0) \\cdot A.col(0)=\\left[\\begin{matrix}d\\\\- b\\end{matrix}\\right] \\cdot \\left[\\begin{matrix}a\\\\c\\end{matrix}\\right]=a d - b c=|\\left[\\begin{matrix}a & b\\\\c & d\\end{matrix}\\right]|$"
          },
          "metadata": {},
          "execution_count": 8
        }
      ],
      "source": [
        "# @title\n",
        "imprimir(r'A.Ccol(0) \\cdot A.col(0)=',A2.Ccol(0),r' \\cdot ',A2.col(0),'=',A2.Ccol(0).dot(A2.col(0)),'=|',A2,'|')"
      ]
    },
    {
      "cell_type": "markdown",
      "metadata": {
        "id": "0EuL9ISmjiZk"
      },
      "source": [
        "El cual corresponde al determinante de una matriz de 2x2.\n",
        "\n",
        "Lo mismo sucede con la columna 1."
      ]
    },
    {
      "cell_type": "code",
      "execution_count": 9,
      "metadata": {
        "cellView": "form",
        "colab": {
          "base_uri": "https://localhost:8080/",
          "height": 58
        },
        "id": "suY6CT_ZjiZk",
        "outputId": "6d3a3a62-8b84-464d-cfad-b1a8aa412969"
      },
      "outputs": [
        {
          "output_type": "execute_result",
          "data": {
            "text/plain": [
              "<IPython.core.display.Latex object>"
            ],
            "text/latex": "$A.Ccol(1) \\cdot A.col(1)=\\left[\\begin{matrix}- c\\\\a\\end{matrix}\\right] \\cdot \\left[\\begin{matrix}b\\\\d\\end{matrix}\\right]=a d - b c=|\\left[\\begin{matrix}a & b\\\\c & d\\end{matrix}\\right]|$"
          },
          "metadata": {},
          "execution_count": 9
        }
      ],
      "source": [
        "# @title\n",
        "imprimir(r'A.Ccol(1) \\cdot A.col(1)=',A2.Ccol(1),r' \\cdot ',A2.col(1),'=',A2.Ccol(1).dot(A2.col(1)),'=|',A2,'|')"
      ]
    },
    {
      "cell_type": "markdown",
      "metadata": {
        "id": "5m3HFqfojiZk"
      },
      "source": [
        " El cual corresponde al determinante de una matriz de 2x2"
      ]
    },
    {
      "cell_type": "markdown",
      "metadata": {
        "id": "rVjNvJh_jiZk"
      },
      "source": [
        "# Columna de cofactores y el determinante en 3D\n",
        "\n",
        "Si"
      ]
    },
    {
      "cell_type": "code",
      "execution_count": 10,
      "metadata": {
        "cellView": "form",
        "colab": {
          "base_uri": "https://localhost:8080/",
          "height": 78
        },
        "id": "UFN7Y3skjiZk",
        "outputId": "cbbc5192-9c5e-4ff9-e75e-dae6bc7d8d57"
      },
      "outputs": [
        {
          "output_type": "execute_result",
          "data": {
            "text/plain": [
              "<IPython.core.display.Latex object>"
            ],
            "text/latex": "$A=\\left[\\begin{matrix}u_{0} & v_{0} & w_{0}\\\\u_{1} & v_{1} & w_{1}\\\\u_{2} & v_{2} & w_{2}\\end{matrix}\\right]$"
          },
          "metadata": {},
          "execution_count": 10
        }
      ],
      "source": [
        "# @title\n",
        "u=Matrix(sp.symbols('u0:3'))\n",
        "v=Matrix(sp.symbols('v0:3'))\n",
        "w=Matrix(sp.symbols('w0:3'))\n",
        "A1 = Matrix.hstack(u, v, w)\n",
        "imprimir('A=',A1)"
      ]
    },
    {
      "cell_type": "markdown",
      "metadata": {
        "id": "Z2gSyBeDjiZl"
      },
      "source": [
        "una columna $j$ de cofactores está dada por\n",
        "$$A.Ccol(j)=\\begin{bmatrix} C_{0j} \\\\ C_{1j} \\\\ C_{2j} \\end{bmatrix}$$\n",
        "Por ejemplo, la columna 0 de cofactores de $A$ es"
      ]
    },
    {
      "cell_type": "code",
      "execution_count": 11,
      "metadata": {
        "cellView": "form",
        "colab": {
          "base_uri": "https://localhost:8080/",
          "height": 78
        },
        "id": "ziCs59W4jiZl",
        "outputId": "c37aaa57-d6b2-464f-c43e-da45171f014d"
      },
      "outputs": [
        {
          "output_type": "execute_result",
          "data": {
            "text/plain": [
              "<IPython.core.display.Latex object>"
            ],
            "text/latex": "$A.Ccol(0)=\\left[\\begin{matrix}v_{1} w_{2} - v_{2} w_{1}\\\\- v_{0} w_{2} + v_{2} w_{0}\\\\v_{0} w_{1} - v_{1} w_{0}\\end{matrix}\\right]=\\left[\\begin{matrix}v_{0}\\\\v_{1}\\\\v_{2}\\end{matrix}\\right]\\times\\left[\\begin{matrix}w_{0}\\\\w_{1}\\\\w_{2}\\end{matrix}\\right]$"
          },
          "metadata": {},
          "execution_count": 11
        }
      ],
      "source": [
        "# @title\n",
        "imprimir('A.Ccol(0)=',A1.Ccol(0),'=',v,r'\\times',w)"
      ]
    },
    {
      "cell_type": "markdown",
      "metadata": {
        "id": "O2XsiU-_jiZl"
      },
      "source": [
        "que corresponde al producto cruz de los otros dos vectores. Recordemos que el producto cruz es un vector perpendicular a los otros dos vectores y su magnitud corresponde al área del paralelogramo formado por los dos vectores.\n",
        "\n",
        "\n",
        "Además, al hacer el producto punto de una columna con esa columna de cofactores obtenemos el determinante de la matriz\n",
        "$$A{.}ccof(j) \\cdot A{.}col(j)  = \\begin{bmatrix} C_{0j} \\\\ C_{1j} \\\\ C_{2j} \\end{bmatrix} \\cdot \\begin{bmatrix} a_{0j} \\\\ a_{1j} \\\\ a_{2j} \\end{bmatrix}\n",
        "= C_{0j}  a_{0j} + C_{1j} a_{1j} + C_{2j} a_{2j} $$\n",
        "En el caso de la columna 0 se tiene"
      ]
    },
    {
      "cell_type": "code",
      "execution_count": 16,
      "metadata": {
        "cellView": "form",
        "colab": {
          "base_uri": "https://localhost:8080/",
          "height": 78
        },
        "id": "lY0_kzU-jiZl",
        "outputId": "57adb3b9-6171-46cb-f150-9a7c9a184138"
      },
      "outputs": [
        {
          "output_type": "execute_result",
          "data": {
            "text/plain": [
              "<IPython.core.display.Latex object>"
            ],
            "text/latex": "$A.Ccol(0) \\cdot A.col(0)=\\left[\\begin{matrix}v_{1} w_{2} - v_{2} w_{1}\\\\- v_{0} w_{2} + v_{2} w_{0}\\\\v_{0} w_{1} - v_{1} w_{0}\\end{matrix}\\right] \\cdot \\left[\\begin{matrix}u_{0}\\\\u_{1}\\\\u_{2}\\end{matrix}\\right]=u_{0} \\left(v_{1} w_{2} - v_{2} w_{1}\\right) + u_{1} \\left(- v_{0} w_{2} + v_{2} w_{0}\\right) + u_{2} \\left(v_{0} w_{1} - v_{1} w_{0}\\right)=|\\left[\\begin{matrix}u_{0} & v_{0} & w_{0}\\\\u_{1} & v_{1} & w_{1}\\\\u_{2} & v_{2} & w_{2}\\end{matrix}\\right]|$"
          },
          "metadata": {},
          "execution_count": 16
        }
      ],
      "source": [
        "# @title\n",
        "imprimir(r'A.Ccol(0) \\cdot A.col(0)=',A1.Ccol(0),r' \\cdot ',A1.col(0),'=',A1.Ccol(0).dot(A1.col(0)),'=|',A1,'|')"
      ]
    },
    {
      "cell_type": "markdown",
      "metadata": {
        "id": "wlsPLI4ajiZl"
      },
      "source": [
        "El cual corresponde al determinante de una matriz de 3x3.\n",
        "\n",
        "Lo mismo sucede con las columnas 1 y 2."
      ]
    },
    {
      "cell_type": "code",
      "execution_count": 17,
      "metadata": {
        "cellView": "form",
        "colab": {
          "base_uri": "https://localhost:8080/",
          "height": 78
        },
        "id": "G7VnEuUDjiZl",
        "outputId": "c5f9d0f1-5772-4c8b-fce7-de7e3534b7e4"
      },
      "outputs": [
        {
          "output_type": "execute_result",
          "data": {
            "text/plain": [
              "<IPython.core.display.Latex object>"
            ],
            "text/latex": "$A.Ccol(1) \\cdot A.col(1)=\\left[\\begin{matrix}- u_{1} w_{2} + u_{2} w_{1}\\\\u_{0} w_{2} - u_{2} w_{0}\\\\- u_{0} w_{1} + u_{1} w_{0}\\end{matrix}\\right] \\cdot \\left[\\begin{matrix}v_{0}\\\\v_{1}\\\\v_{2}\\end{matrix}\\right]=v_{0} \\left(- u_{1} w_{2} + u_{2} w_{1}\\right) + v_{1} \\left(u_{0} w_{2} - u_{2} w_{0}\\right) + v_{2} \\left(- u_{0} w_{1} + u_{1} w_{0}\\right)=|\\left[\\begin{matrix}u_{0} & v_{0} & w_{0}\\\\u_{1} & v_{1} & w_{1}\\\\u_{2} & v_{2} & w_{2}\\end{matrix}\\right]|$"
          },
          "metadata": {},
          "execution_count": 17
        }
      ],
      "source": [
        "# @title\n",
        "imprimir(r'A.Ccol(1) \\cdot A.col(1)=',A1.Ccol(1),r' \\cdot ',A1.col(1),'=',A1.Ccol(1).dot(A1.col(1)),'=|',A1,'|')"
      ]
    },
    {
      "cell_type": "code",
      "execution_count": 18,
      "metadata": {
        "cellView": "form",
        "colab": {
          "base_uri": "https://localhost:8080/",
          "height": 78
        },
        "id": "rZgWNIOvjiZl",
        "outputId": "3131dcb5-8b4a-4dd9-f7f4-a1f676942885"
      },
      "outputs": [
        {
          "output_type": "execute_result",
          "data": {
            "text/plain": [
              "<IPython.core.display.Latex object>"
            ],
            "text/latex": "$A.Ccol(2) \\cdot A.col(2)=\\left[\\begin{matrix}u_{1} v_{2} - u_{2} v_{1}\\\\- u_{0} v_{2} + u_{2} v_{0}\\\\u_{0} v_{1} - u_{1} v_{0}\\end{matrix}\\right] \\cdot \\left[\\begin{matrix}w_{0}\\\\w_{1}\\\\w_{2}\\end{matrix}\\right]=w_{0} \\left(u_{1} v_{2} - u_{2} v_{1}\\right) + w_{1} \\left(- u_{0} v_{2} + u_{2} v_{0}\\right) + w_{2} \\left(u_{0} v_{1} - u_{1} v_{0}\\right)=|\\left[\\begin{matrix}u_{0} & v_{0} & w_{0}\\\\u_{1} & v_{1} & w_{1}\\\\u_{2} & v_{2} & w_{2}\\end{matrix}\\right]|$"
          },
          "metadata": {},
          "execution_count": 18
        }
      ],
      "source": [
        "# @title\n",
        "imprimir(r'A.Ccol(2) \\cdot A.col(2)=',A1.Ccol(2),r' \\cdot ',A1.col(2),'=',A1.Ccol(2).dot(A1.col(2)),'=|',A1,'|')"
      ]
    },
    {
      "cell_type": "markdown",
      "metadata": {
        "id": "ncYjt5adjiZl"
      },
      "source": [
        "# Columna de cofactores y el determinante en n dimensiones\n",
        "\n",
        "## Teorema:\n",
        "Sea $A$ una matriz cuadrada de orden $n$.\n",
        "Una columna $j$, de cofactores de $A$,  \n",
        "$$ A{.}Ccol(j)=\\begin{bmatrix} C_{0j} \\\\ C_{1j} \\\\ \\vdots \\\\ C_{ñj} \\end{bmatrix} $$ es perpendicular a las demás columnas de $A$.\n",
        "\n",
        "\n",
        "## Definición:\n",
        "El __determinante__ de una matriz cuadrada $A$ desarrollada por la columna $j$ consiste en el producto punto de la columna $j$ de $A$ por la columna $j$ de cofactores. El determinante de $A$ se denota $|A|$ o $\\text{det}(A)$.\n",
        "\n",
        "$$ |A|=A{.}Ccol(j) \\cdot A{.}col(j)=\\begin{bmatrix} C_{0j} \\\\ C_{1j} \\\\ \\vdots \\\\ C_{ñj} \\end{bmatrix} \\cdot \\begin{bmatrix} a_{0j} \\\\ a_{1j} \\\\ \\vdots \\\\ a_{ñj} \\end{bmatrix} =a_{0j} C_{0j} + a_{1j} C_{1j} + \\cdots + a_{ñj} c_{ñj}$$\n",
        "\n",
        "## Propiedades:\n",
        "1. El determinante consiste en sumas y restas de los todos productos de los elementos de la matriz que no repiten fila o columna.\n",
        "1. El determinante desarrollado por cualquier columna $j$ es el mismo sin importar el valor de $j$.\n",
        "1. El determinante de una matriz es igual al de su transpuesta. Esto implica que el determinante se puede desarrollar por los renglones y que las propiedades son similares para los renglones y las columnas.\n",
        "1. El determinante de una matriz triangular es el producto de su diagonal.\n",
        "1. Si un renglón (o columna) es combinación lineal de los otros entonces el determinante es cero. Esto implica que si hay dos renglones (o columnas) repetidos el determinante es cero al igual que si hay un renglón (o columna) de ceros.\n",
        "1. Si dos matrices $A$ y $B$ difieren en un sólo renglón (o columna) la suma de los determinantes de $A$ y $B$ es igual al determinante de la matriz cuyos elementos son los mismos que los de $A$ y $B$ en los renglones (o columnas) que coinciden. En los que no coinciden es la suma de los renglones (o columnas).\n",
        "1. Al sumar un múltiplo de un renglón (o columna) a otro el determinante no se afecta.\n",
        "1. Al intercambiar dos renglones (o columnas), el determinante cambia de signo.\n",
        "1. Al multiplicar un renglón (o columna) por una constante, el determinante se multiplica por esa constante.\n",
        "1. Al multiplicar una matriz por una contante $k$ el determinante se multiplica por $k^n$, donde $n$ es el número de renglones de la matriz.\n",
        "1. El determinante de un producto de matrices es el producto de los determinantes.\n",
        "1. El determinante de la inversa es la inversa del determinante.\n",
        "\n",
        "## Determinante y  transformaciones\n",
        "[video](Det_prodCruz.mp4)\n",
        "\n",
        "## Adjunta\n",
        "\n",
        "Sea $A$  una matriz de orden $n$. La matriz cuyo $(i,j)$-ésimo elemento es el cofactor $C_{ij}$ de $A$ es la __matriz de cofactores__ de $A$. Su transpuesta es la __adjunta de $A$__, y se representa por $Adj(A)$.\n",
        "$$Adj(A)=\\begin{bmatrix}C_{11} & C_{21} & \\cdots & C_{n1} \\\\\n",
        "C_{12} & C_{22} & \\cdots & C_{n2} \\\\\n",
        "\\vdots & \\vdots & \\ddots & \\vdots \\\\\n",
        "C_{1n} & C_{1n} & \\cdots & C_{nn} \\\\\\end{bmatrix}$$\n",
        "\n",
        "### Teorema:\n",
        "Sea $A$ una matriz de orden $n$. Entonces\n",
        "$$A \\ Adj(A) = det(A) I_n = Adj(A) \\ A$$\n",
        "y por lo tanto si $A$ es invertible\n",
        "$$A^{-1}=\\frac{1}{det(A)}Adj(A)$$\n",
        "\n",
        "## Regla de Cramer\n",
        "## Teorema\n",
        "Si $det(A) \\neq 0$, la solución del sistema $Ax=b$ es  $$ x_1=\\frac{|A_1|}{|A|}, \\ x_2=\\frac{|A_2|}{|A|}, \\ldots, \\ x_n=\\frac{|A_n|}{|A|}, $$\n",
        "En donde $A_i$ corresponde a la matriz $A$ remplazando la columna $i$ por $b$.\n"
      ]
    }
  ],
  "metadata": {
    "kernelspec": {
      "display_name": "Python 3",
      "language": "python",
      "name": "python3"
    },
    "language_info": {
      "codemirror_mode": {
        "name": "ipython",
        "version": 3
      },
      "file_extension": ".py",
      "mimetype": "text/x-python",
      "name": "python",
      "nbconvert_exporter": "python",
      "pygments_lexer": "ipython3",
      "version": "3.6.0"
    },
    "colab": {
      "provenance": []
    }
  },
  "nbformat": 4,
  "nbformat_minor": 0
}