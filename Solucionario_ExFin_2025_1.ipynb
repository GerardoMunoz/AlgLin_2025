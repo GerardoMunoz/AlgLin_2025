{
  "nbformat": 4,
  "nbformat_minor": 0,
  "metadata": {
    "colab": {
      "provenance": [],
      "authorship_tag": "ABX9TyO2jyr/WHHGGMJTqcF8xk1S",
      "include_colab_link": true
    },
    "kernelspec": {
      "name": "python3",
      "display_name": "Python 3"
    },
    "language_info": {
      "name": "python"
    }
  },
  "cells": [
    {
      "cell_type": "markdown",
      "metadata": {
        "id": "view-in-github",
        "colab_type": "text"
      },
      "source": [
        "<a href=\"https://colab.research.google.com/github/GerardoMunoz/AlgLin_2025/blob/main/Solucionario_ExFin_2025_1.ipynb\" target=\"_parent\"><img src=\"https://colab.research.google.com/assets/colab-badge.svg\" alt=\"Open In Colab\"/></a>"
      ]
    },
    {
      "cell_type": "code",
      "source": [
        "import sympy as sp"
      ],
      "metadata": {
        "id": "FkCbA3wzp0nU"
      },
      "execution_count": 33,
      "outputs": []
    },
    {
      "cell_type": "markdown",
      "source": [
        "# Sistema de ecuaciones\n",
        "\n"
      ],
      "metadata": {
        "id": "4hfFqhUypoFr"
      }
    },
    {
      "cell_type": "markdown",
      "source": [
        "Vamos a encontrar el valor de $\\alpha$ para que el siguiente sistema de ecuaciones (escrito como una matriz extendida) sea consistente. Las variables son $x$, $y$."
      ],
      "metadata": {
        "id": "bnVUmKbTql6w"
      }
    },
    {
      "cell_type": "code",
      "source": [
        "alfa=sp.Symbol(\"alpha\")\n",
        "alfa"
      ],
      "metadata": {
        "colab": {
          "base_uri": "https://localhost:8080/",
          "height": 38
        },
        "id": "MT4iRkpdpyph",
        "outputId": "dad423c2-8d26-49f0-ac25-c6d30ddabbe9"
      },
      "execution_count": 34,
      "outputs": [
        {
          "output_type": "execute_result",
          "data": {
            "text/plain": [
              "alpha"
            ],
            "text/latex": "$\\displaystyle \\alpha$"
          },
          "metadata": {},
          "execution_count": 34
        }
      ]
    },
    {
      "cell_type": "code",
      "source": [
        "M=sp.Matrix([\n",
        "    [2, -1, 1- alfa],\n",
        "    [1,  0, 2*alfa],\n",
        "    [3,  4, 5*alfa],\n",
        "])\n",
        "M"
      ],
      "metadata": {
        "colab": {
          "base_uri": "https://localhost:8080/",
          "height": 78
        },
        "id": "YX4c71zoqlP5",
        "outputId": "e42ffd98-dcc0-4734-d9ae-5a6f4e9aa818"
      },
      "execution_count": 35,
      "outputs": [
        {
          "output_type": "execute_result",
          "data": {
            "text/plain": [
              "Matrix([\n",
              "[2, -1, 1 - alpha],\n",
              "[1,  0,   2*alpha],\n",
              "[3,  4,   5*alpha]])"
            ],
            "text/latex": "$\\displaystyle \\left[\\begin{matrix}2 & -1 & 1 - \\alpha\\\\1 & 0 & 2 \\alpha\\\\3 & 4 & 5 \\alpha\\end{matrix}\\right]$"
          },
          "metadata": {},
          "execution_count": 35
        }
      ]
    },
    {
      "cell_type": "code",
      "source": [
        "M.row_swap(0, 1)\n",
        "M"
      ],
      "metadata": {
        "colab": {
          "base_uri": "https://localhost:8080/",
          "height": 78
        },
        "id": "TRm0RRw2tD3C",
        "outputId": "3ad15480-b756-4b6a-c0cc-6cf10c6538ae"
      },
      "execution_count": 36,
      "outputs": [
        {
          "output_type": "execute_result",
          "data": {
            "text/plain": [
              "Matrix([\n",
              "[1,  0,   2*alpha],\n",
              "[2, -1, 1 - alpha],\n",
              "[3,  4,   5*alpha]])"
            ],
            "text/latex": "$\\displaystyle \\left[\\begin{matrix}1 & 0 & 2 \\alpha\\\\2 & -1 & 1 - \\alpha\\\\3 & 4 & 5 \\alpha\\end{matrix}\\right]$"
          },
          "metadata": {},
          "execution_count": 36
        }
      ]
    },
    {
      "cell_type": "code",
      "source": [
        "M[1,:] = M[1,:] - M[0,:]*2\n",
        "M[2,:] = M[2,:] - M[0,:]*3\n",
        "M"
      ],
      "metadata": {
        "colab": {
          "base_uri": "https://localhost:8080/",
          "height": 78
        },
        "id": "aXExs-OasKud",
        "outputId": "27cd7087-fd25-4397-d863-132d6ab0f605"
      },
      "execution_count": 37,
      "outputs": [
        {
          "output_type": "execute_result",
          "data": {
            "text/plain": [
              "Matrix([\n",
              "[1,  0,     2*alpha],\n",
              "[0, -1, 1 - 5*alpha],\n",
              "[0,  4,      -alpha]])"
            ],
            "text/latex": "$\\displaystyle \\left[\\begin{matrix}1 & 0 & 2 \\alpha\\\\0 & -1 & 1 - 5 \\alpha\\\\0 & 4 & - \\alpha\\end{matrix}\\right]$"
          },
          "metadata": {},
          "execution_count": 37
        }
      ]
    },
    {
      "cell_type": "code",
      "source": [
        "M[2,:] = M[2,:] + M[1,:]*4\n",
        "M"
      ],
      "metadata": {
        "colab": {
          "base_uri": "https://localhost:8080/",
          "height": 78
        },
        "id": "2q3uKu5Stf-p",
        "outputId": "761c6fd5-1ed9-4a76-c440-8b3390d4126b"
      },
      "execution_count": 42,
      "outputs": [
        {
          "output_type": "execute_result",
          "data": {
            "text/plain": [
              "Matrix([\n",
              "[1,  0,      2*alpha],\n",
              "[0, -1,  1 - 5*alpha],\n",
              "[0,  0, 4 - 21*alpha]])"
            ],
            "text/latex": "$\\displaystyle \\left[\\begin{matrix}1 & 0 & 2 \\alpha\\\\0 & -1 & 1 - 5 \\alpha\\\\0 & 0 & 4 - 21 \\alpha\\end{matrix}\\right]$"
          },
          "metadata": {},
          "execution_count": 42
        }
      ]
    },
    {
      "cell_type": "markdown",
      "source": [
        "El sistema de ecuaciones es consistente si\n",
        "$$4-21\\alpha = 0$$\n",
        "es decir si\n",
        "$$\\alpha=\\frac{4}{21}$$"
      ],
      "metadata": {
        "id": "voeOCMyguQFH"
      }
    },
    {
      "cell_type": "markdown",
      "source": [
        "# Determinante y matriz invertible\n",
        "Como $$A^{-1}=\\frac{1}{|A|}Cof(A)$$ entonces para determinar que $A$ sea invertible hay que encontrar cuando $$|A| \\neq 0$$\n"
      ],
      "metadata": {
        "id": "VRL_V5bzuvlP"
      }
    },
    {
      "cell_type": "code",
      "source": [
        "A=sp.Matrix([\n",
        "    [3, -alfa, 0],\n",
        "    [alfa, 3, 1],\n",
        "    [alfa, 3, alfa]\n",
        " ])\n",
        "A"
      ],
      "metadata": {
        "colab": {
          "base_uri": "https://localhost:8080/",
          "height": 78
        },
        "id": "4HSV73PXwcCS",
        "outputId": "54edbfb3-6779-4e4d-b641-237dde226d2b"
      },
      "execution_count": 43,
      "outputs": [
        {
          "output_type": "execute_result",
          "data": {
            "text/plain": [
              "Matrix([\n",
              "[    3, -alpha,     0],\n",
              "[alpha,      3,     1],\n",
              "[alpha,      3, alpha]])"
            ],
            "text/latex": "$\\displaystyle \\left[\\begin{matrix}3 & - \\alpha & 0\\\\\\alpha & 3 & 1\\\\\\alpha & 3 & \\alpha\\end{matrix}\\right]$"
          },
          "metadata": {},
          "execution_count": 43
        }
      ]
    },
    {
      "cell_type": "markdown",
      "source": [
        "El determinante se puede desarrollar por el primer renglón aprovechando que hay un cero. Lo cual da\n",
        "$$(9+\\alpha^2)(\\alpha -1)=0$$\n",
        "Esto implica que el único valor real de $\\alpha$ que hace cero el determinante es $\\alpha=1$. Por lo tanto para que sea invertible, $$\\alpha \\neq 1$$"
      ],
      "metadata": {
        "id": "_-DWr87Jw11S"
      }
    },
    {
      "cell_type": "markdown",
      "source": [
        "# Determinante y volumen del paralelepípedo\n",
        "\n"
      ],
      "metadata": {
        "id": "Y5v4C0_Dxt14"
      }
    },
    {
      "cell_type": "markdown",
      "source": [
        "El volumen del paralelepípedo generado por 3 vectores en $\\mathbb{R}^3$ es el determinante de la matriz cuyas columnas son los 3 vectores."
      ],
      "metadata": {
        "id": "DrwLlDNry_vX"
      }
    },
    {
      "cell_type": "code",
      "source": [
        "v1=sp.Matrix([  [1],\n",
        "                [-1],\n",
        "                [2]])\n",
        "v2=sp.Matrix([  [2],\n",
        "                [2],\n",
        "                [1]])\n",
        "v3=sp.Matrix([  [4],\n",
        "                [5],\n",
        "                [0]])\n",
        "A = v1.row_join(v2.row_join(v3))\n",
        "A"
      ],
      "metadata": {
        "colab": {
          "base_uri": "https://localhost:8080/",
          "height": 78
        },
        "id": "WKR-i0YXw9Yq",
        "outputId": "5287d489-adc0-448c-d5aa-4f60ea44b091"
      },
      "execution_count": 46,
      "outputs": [
        {
          "output_type": "execute_result",
          "data": {
            "text/plain": [
              "Matrix([\n",
              "[ 1, 2, 4],\n",
              "[-1, 2, 5],\n",
              "[ 2, 1, 0]])"
            ],
            "text/latex": "$\\displaystyle \\left[\\begin{matrix}1 & 2 & 4\\\\-1 & 2 & 5\\\\2 & 1 & 0\\end{matrix}\\right]$"
          },
          "metadata": {},
          "execution_count": 46
        }
      ]
    },
    {
      "cell_type": "code",
      "source": [
        "A.det()"
      ],
      "metadata": {
        "colab": {
          "base_uri": "https://localhost:8080/",
          "height": 37
        },
        "id": "4evMxPc41El6",
        "outputId": "c3cb7f1c-4107-4721-ea8b-65790a59f253"
      },
      "execution_count": 47,
      "outputs": [
        {
          "output_type": "execute_result",
          "data": {
            "text/plain": [
              "-5"
            ],
            "text/latex": "$\\displaystyle -5$"
          },
          "metadata": {},
          "execution_count": 47
        }
      ]
    },
    {
      "cell_type": "markdown",
      "source": [
        "# Intersección de recta y plano\n",
        "\n",
        "* Una forma para encontrar la intersección de la recta\n",
        "$$\\frac{x+1}{2}=y-2=\\frac{z-\\frac{25}{2}}{5}$$\n",
        " y el plano\n",
        " $$x-3y+2z=0$$\n",
        " Escribimos la recta como un sistema de 2 ecuaciones y le adicionamos la ecuación del plano y resolvemos el sistema de tres ecuaciones.\n",
        "\n",
        "* Otra forma es probar  los puntos candidatos en las ecuaciones a ver cual cumple las ecuaciones.\n",
        "\n",
        "En particular el punto $\\begin{pmatrix}-5\\\\0\\\\\\frac{5}{2}\\end{pmatrix}$ cumple con las ecuaciones de la recta y con la ecuación del plano"
      ],
      "metadata": {
        "id": "s8U9DMpF1YF5"
      }
    },
    {
      "cell_type": "markdown",
      "source": [
        "# Coordenadas\n",
        "Para encontrar las coordenadas de $P(x)$ en la base $B$ hay varias opciones.\n",
        "* Opción 1: Resolver el sistema de ecuaciones que sale de\n",
        "$$ c_0(1+x)+c_1(x+x^2)+c_2(1+x^2)=2+3x+4x^2$$\n",
        "* Opción 2: Reemplazar $(c_0, c_1, c_2)$ por los candidatos dados. En particular es fácil comprobar que  $\\begin{pmatrix}\\frac{1}{2}\\\\\\frac{5}{2}\\\\\\frac{3}{2}\\end{pmatrix}$ cumple con\n",
        "$$ \\frac{1}{2}(1+x)+\\frac{5}{2}(x+x^2)+\\frac{3}{2}(1+x^2)=2+3x+4x^2$$"
      ],
      "metadata": {
        "id": "gWWzLCGo4v0p"
      }
    },
    {
      "cell_type": "markdown",
      "source": [
        "# Dimensión del subespacio\n",
        "Para hallar la dimensión del subespacio de\n",
        "$$ W=\\{X \\in M_{2 \\times 2} \\mid AX =XB\\}$$\n",
        "donde\n",
        "$$ A=\\begin{pmatrix}2&0\\\\1&1\\end{pmatrix} \\text{ y } B=\\begin{pmatrix}1&0\\\\-1&1\\end{pmatrix}$$\n",
        "Asumimos $X=\\begin{pmatrix}a&b\\\\c&d\\end{pmatrix}$ y encontramos el conjunto solución del sistema de ecuaciones que genera $ AX =XB$\n",
        "\n",
        "$AX=\\begin{pmatrix}2&0\\\\1&1\\end{pmatrix}\\begin{pmatrix}a&b\\\\c&d\\end{pmatrix}=\\begin{pmatrix}2a&2b\\\\a+c&b+d\\end{pmatrix}$\n",
        "\n",
        "$XB=\\begin{pmatrix}a&b\\\\c&d\\end{pmatrix}\\begin{pmatrix}1&0\\\\-1&1\\end{pmatrix}=\\begin{pmatrix}a-b&b\\\\c-d&d\\end{pmatrix}$\n",
        "\n",
        "Para que ambas matrices sean iguales, se igualan término a término. Luego se colocan las variables $a,b,c,d$ a la izquierda.\n",
        "\n",
        "$$2a=a-b \\rightarrow a+b=0$$\n",
        "$$2b=b \\rightarrow b=0$$\n",
        "$$a+c=c-d \\rightarrow a+d=0 $$\n",
        "$$b+d=d \\rightarrow b=0$$\n",
        "Escribimos la matriz extendida con las variables $a,b,c,d$ para encontrar la forma escalón\n",
        "$$\\begin{pmatrix} 1& 1 & 0 & 0 & 0 \\\\ 0 & 1 & 0 & 0 & 0 \\\\ 1 & 0 & 0 & 1 & 0 \\\\ 0 & 1 & 0 & 0 & 0  \\end{pmatrix}\\sim\n",
        "\\begin{pmatrix} 1& 1 & 0 & 0 & 0 \\\\ 0 & 1 & 0 & 0 & 0 \\\\ 0 & -1 & 0 & 1 & 0 \\\\ 0 & 1 & 0 & 0 & 0  \\end{pmatrix}\\sim\n",
        "\\begin{pmatrix} 1& 1 & 0 & 0 & 0 \\\\ 0 & 1 & 0 & 0 & 0 \\\\ 0 & 0 & 0 & 1 & 0 \\\\ 0 & 0 & 0 & 0 & 0  \\end{pmatrix}\n",
        "$$\n",
        "\n",
        "Como el sistema sólo tiene una variable libre, entonces la dimensión de $W$ es 1."
      ],
      "metadata": {
        "id": "tpj7EeQnBQQI"
      }
    },
    {
      "cell_type": "markdown",
      "source": [
        "# Transformaciones lineales\n",
        "\n",
        "Para cada una de las transformaciones vamos a encontrar la matriz en las bases estándar y comprobamos si la transformación corresponde a una multipricación matricial.\n",
        "\n",
        "I) $T_1\\begin{pmatrix}x\\\\y\\\\z\\end{pmatrix}=\\begin{pmatrix}x\\\\x+y+z\\end{pmatrix}$\n",
        "$$A=T_2^*(I_3)=\\begin{bmatrix}1&0&0\\\\1&1&1\\end{bmatrix}$$\n",
        "$$\\begin{bmatrix}1&0&0\\\\1&1&1\\end{bmatrix}\\begin{pmatrix}x\\\\y\\\\z\\end{pmatrix}=\\begin{pmatrix}x\\\\x+y+z\\end{pmatrix}$$\n",
        "$T_1$ sí es una transformación matricial\n",
        "\n",
        "\n",
        "II) $T_2\\begin{pmatrix}x\\\\y\\\\z\\end{pmatrix}=\\begin{pmatrix}2\\\\2\\\\2\\end{pmatrix}$\n",
        "$$A=T_2^*(I_3)=\\begin{bmatrix}2&2&2\\\\2&2&2\\\\2&2&2\\end{bmatrix}$$\n",
        "$$\\begin{bmatrix}2&2&2\\\\2&2&2\\\\2&2&2\\end{bmatrix}\\begin{pmatrix}x\\\\y\\\\z\\end{pmatrix}=\\begin{pmatrix}2x+2y+2z\\\\2x+2y+2z\\\\2x+2y+2z\\end{pmatrix}$$\n",
        "$T_2$ No es una transformación matricial\n",
        "\n",
        "\n",
        "III) $T_3\\begin{pmatrix}x\\\\y\\\\z\\end{pmatrix}=\\begin{pmatrix}0\\\\0\\end{pmatrix}$\n",
        "$$A=T_3^*(I_3)=\\begin{bmatrix}0&0&0\\\\0&0&0\\end{bmatrix}$$\n",
        "$$\\begin{bmatrix}0&0&0\\\\0&0&0\\end{bmatrix}\\begin{pmatrix}x\\\\y\\\\z\\end{pmatrix}=\\begin{pmatrix}0\\\\0\\end{pmatrix}$$\n",
        "$T_3$ sí es una transformación matricial\n",
        "\n",
        "\n",
        "IV) $T_4\\begin{pmatrix}x\\\\y\\\\z\\end{pmatrix}=\\begin{pmatrix}-4\\\\y\\end{pmatrix}$\n",
        "$$A=T_4^*(I_3)=\\begin{bmatrix}-4&-4&-4\\\\0&1&0\\end{bmatrix}$$\n",
        "$$\\begin{bmatrix}-4&-4&-4\\\\0&1&0\\end{bmatrix}\\begin{pmatrix}x\\\\y\\\\z\\end{pmatrix}=\\begin{pmatrix}-4x-4y-4z\\\\y\\end{pmatrix}$$\n",
        "$T_4$ no es una transformación matricial\n",
        "\n",
        "---\n",
        "Solamente I y III son transformaciones lineales\n"
      ],
      "metadata": {
        "id": "6Ohp4KrZ7QIN"
      }
    },
    {
      "cell_type": "markdown",
      "source": [
        "#"
      ],
      "metadata": {
        "id": "uR9D6kiLBJe5"
      }
    },
    {
      "cell_type": "markdown",
      "source": [
        "# Valores propios\n",
        "Para encontrar los valores propios de\n",
        "$$ \\begin{bmatrix} 0 & b \\\\ c & 0 \\end{bmatrix}$$\n",
        "encontramos el determinante de la matriz caracterísitica\n",
        "$$ \\begin{vmatrix} -\\lambda & b \\\\ c & -\\lambda \\end{vmatrix}=\\lambda^2-bc=(\\lambda+\\sqrt{bc})(\\lambda-\\sqrt{bc})$$\n",
        "\n",
        "Como $b$ y $c$ son positivos, entonces las raices son número reales y los valores propios son opuestos: $\\sqrt{bc}$, $-\\sqrt{bc}$."
      ],
      "metadata": {
        "id": "xU8eWmunmx09"
      }
    },
    {
      "cell_type": "markdown",
      "source": [
        "# Vectores propios\n"
      ],
      "metadata": {
        "id": "-_MbZDh0HnGW"
      }
    },
    {
      "cell_type": "code",
      "execution_count": 38,
      "metadata": {
        "colab": {
          "base_uri": "https://localhost:8080/",
          "height": 78
        },
        "id": "5RbYJ6cumoua",
        "outputId": "8139a2cf-3eee-47c5-e5b2-f33c35bdb215"
      },
      "outputs": [
        {
          "output_type": "execute_result",
          "data": {
            "text/plain": [
              "Matrix([\n",
              "[3, 2, 4],\n",
              "[2, 0, 2],\n",
              "[4, 2, 3]])"
            ],
            "text/latex": "$\\displaystyle \\left[\\begin{matrix}3 & 2 & 4\\\\2 & 0 & 2\\\\4 & 2 & 3\\end{matrix}\\right]$"
          },
          "metadata": {},
          "execution_count": 38
        }
      ],
      "source": [
        "\n",
        "A=sp.Matrix([\n",
        "    [3, 2, 4],\n",
        "    [2, 0, 2],\n",
        "    [4, 2, 3]\n",
        "])\n",
        "A"
      ]
    },
    {
      "cell_type": "markdown",
      "source": [
        "Una forma de solucionarlo es probar todas las posibles respuestas. Para agilizar, los vectores de las respuestas se colocan en una matriz, así es más rápido multiplicar $A$ por cada columna. Se pueden ir descartando las columnas que no son proporcionales en el segundo renglón."
      ],
      "metadata": {
        "id": "i8_xm8R3nrTv"
      }
    },
    {
      "cell_type": "code",
      "source": [
        "B=sp.Matrix([\n",
        "    [1,  1,  1,  1,  0],\n",
        "    [-1, 4, -2, -3, -2],\n",
        "    [1,  1,  0, -1,  1]\n",
        "])\n",
        "B"
      ],
      "metadata": {
        "colab": {
          "base_uri": "https://localhost:8080/",
          "height": 78
        },
        "id": "kZ2ezI_PnqMI",
        "outputId": "a4fd07e7-cd40-4d5a-b27a-c3f85309feca"
      },
      "execution_count": 39,
      "outputs": [
        {
          "output_type": "execute_result",
          "data": {
            "text/plain": [
              "Matrix([\n",
              "[ 1, 1,  1,  1,  0],\n",
              "[-1, 4, -2, -3, -2],\n",
              "[ 1, 1,  0, -1,  1]])"
            ],
            "text/latex": "$\\displaystyle \\left[\\begin{matrix}1 & 1 & 1 & 1 & 0\\\\-1 & 4 & -2 & -3 & -2\\\\1 & 1 & 0 & -1 & 1\\end{matrix}\\right]$"
          },
          "metadata": {},
          "execution_count": 39
        }
      ]
    },
    {
      "cell_type": "code",
      "source": [
        "A@B"
      ],
      "metadata": {
        "colab": {
          "base_uri": "https://localhost:8080/",
          "height": 78
        },
        "id": "RZDCd2WZoaFO",
        "outputId": "8aa0283f-cfc8-4d0f-a425-7b713f5c127b"
      },
      "execution_count": 40,
      "outputs": [
        {
          "output_type": "execute_result",
          "data": {
            "text/plain": [
              "Matrix([\n",
              "[5, 15, -1, -7,  0],\n",
              "[4,  4,  2,  0,  2],\n",
              "[5, 15,  0, -5, -1]])"
            ],
            "text/latex": "$\\displaystyle \\left[\\begin{matrix}5 & 15 & -1 & -7 & 0\\\\4 & 4 & 2 & 0 & 2\\\\5 & 15 & 0 & -5 & -1\\end{matrix}\\right]$"
          },
          "metadata": {},
          "execution_count": 40
        }
      ]
    },
    {
      "cell_type": "markdown",
      "source": [
        "Se observa que las columnas proporcionales son la tercera y la quinta."
      ],
      "metadata": {
        "id": "thHtKw5uouC9"
      }
    },
    {
      "cell_type": "markdown",
      "source": [],
      "metadata": {
        "id": "1RFfE8uFpefT"
      }
    },
    {
      "cell_type": "code",
      "source": [],
      "metadata": {
        "id": "6v-JjR8AotZd"
      },
      "execution_count": 40,
      "outputs": []
    }
  ]
}