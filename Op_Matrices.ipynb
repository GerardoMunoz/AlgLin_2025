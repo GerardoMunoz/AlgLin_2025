{
  "nbformat": 4,
  "nbformat_minor": 0,
  "metadata": {
    "colab": {
      "provenance": [],
      "authorship_tag": "ABX9TyMjar/FOHUyHZfxj7VyhuYS",
      "include_colab_link": true
    },
    "kernelspec": {
      "name": "python3",
      "display_name": "Python 3"
    },
    "language_info": {
      "name": "python"
    }
  },
  "cells": [
    {
      "cell_type": "markdown",
      "metadata": {
        "id": "view-in-github",
        "colab_type": "text"
      },
      "source": [
        "<a href=\"https://colab.research.google.com/github/GerardoMunoz/AlgLin_2025/blob/main/Op_Matrices.ipynb\" target=\"_parent\"><img src=\"https://colab.research.google.com/assets/colab-badge.svg\" alt=\"Open In Colab\"/></a>"
      ]
    },
    {
      "cell_type": "markdown",
      "source": [
        "# Operaciones matriciales\n",
        "\n",
        "## Preliminares\n",
        "\n",
        "El símbolo de igual $=$ puede sustituirse por uno de los siguientes, según corresponda:\n",
        "* := Indica una asignación de un valor\n",
        "* == Indica una condición que debe cumplirse\n",
        "* =? Indica que hay que comprobar si la igualdad se cumple o no se cumple\n",
        "\n",
        "### Ejemplos\n",
        "\n",
        "Determinar si\n",
        "$$(a+b)^2 =? \\, \\, a^2 +b^2$$\n",
        "\n",
        "Contraejemplo\n",
        "* $a:=1$, $b:=1$\n",
        "* $(a+b)^2 =  (1+1)^2 = 2^2 = 4$\n",
        "* $a^2 +b^2 =1^2 + 1^2 =1 +1 =2$\n",
        "* Como $4 \\neq 2 $ entonces en general $(a+b)^2 \\neq a^2 +b^2$\n",
        "\n",
        "Caso particular\n",
        "* Si $a==0$ o $b==0$ entonces   $(a+b)^2 == a^2 +b^2$\n",
        "\n",
        "\n",
        "## Definiciones\n",
        "\n",
        "$$\\tilde{m}:=m-1$$\n",
        "$$range(m):=\\{0,1,...,\\tilde{m}\\}$$\n",
        "\n",
        "$m//n$ es el cociente de una división de enteros\n",
        "\n",
        "$m\\%n$ es el módulo o el residuo de una división de enteros\n",
        "\n",
        "## Vectores\n",
        " Un vector en $\\mathbb{R}^n$ es una tupla ordenada de $n$ números reales. Los escribiremos entre paréntesis. En este curso se usarán horizontalmente. Cuando los usamos verticalmente los denotamos transpuestos.\n",
        "\n",
        "$$ \\begin{pmatrix}x_1 & x_2  & \\cdots & x_ñ \\end{pmatrix}=\\begin{pmatrix}x_1\\\\x_2\\\\ \\vdots \\\\x_ñ \\end{pmatrix}^\\top$$\n",
        "\n",
        "## Matrices\n",
        "\n",
        "### Definiciones\n",
        "\n",
        "Una matriz de forma o dimensiones $(m \\times n)$ es un conjunto ordenado de números dispuestos en filas y columnas. Las escribiremos entre corchetes. Se puedn ver como una lista de filas (vectores en $\\mathbb{R}^n$) o como una lista de columnas (vectores en $\\mathbb{R}^m$), en este último caso denotamos las columnas transpuestas.\n",
        "\n",
        "$$\\begin{bmatrix}\n",
        "a_{00} & a_{01} & \\cdots & a_{0ñ} \\\\\n",
        "a_{10} & a_{11} & \\cdots & a_{1ñ} \\\\\n",
        "\\vdots & \\vdots & \\ddots & \\vdots \\\\\n",
        "a_{\\tilde{m}0} & a_{\\tilde{m}1} & \\cdots & a_{\\tilde{m}ñ} \\\\\n",
        "\\end{bmatrix} =\n",
        "\\begin{bmatrix}\n",
        "— \\vec{v}_0 — \\\\\n",
        "— \\vec{v}_1 — \\\\\n",
        "\\vdots \\\\\n",
        "— \\vec{v}_\\tilde{m} —\n",
        "\\end{bmatrix} =\n",
        "\\begin{bmatrix}\n",
        "| & | &  & | \\\\\n",
        "\\vec{u}_0^T & \\vec{u}_1^T & \\dots & \\vec{u}_ñ^T \\\\\n",
        "| & | &  & |\n",
        "\\end{bmatrix} $$\n",
        "\n",
        "\n",
        "\n",
        "\n",
        "Dada una matriz $A$,\n",
        "\n",
        "$$\n",
        "A:=\\begin{bmatrix}\n",
        "a_{00} & a_{01} & \\cdots & a_{0ñ} \\\\\n",
        "a_{10} & a_{11} & \\cdots & a_{1ñ} \\\\\n",
        "\\vdots & \\vdots & \\ddots & \\vdots \\\\\n",
        "a_{\\tilde{m}0} & a_{\\tilde{m}1} & \\cdots & a_{\\tilde{m}ñ} \\\\\n",
        "\\end{bmatrix} \\in \\mathbb{R}^{m \\times n}\n",
        "$$\n",
        "\n",
        "Se define la siguiente notación.\n",
        "\n",
        "$$A.rows:=m  $$\n",
        "$$A.cols:=n $$\n",
        "$$A.shape:=(m,n) $$\n",
        "$$A[i,j]:=a_{ij}$$\n",
        "$$A[i,:]:=\\begin{bmatrix}\n",
        "a_{i0} & a_{i1} & \\cdots & a_{iñ}\n",
        "\\end{bmatrix}$$\n",
        "$$A[:,j] :=\\begin{bmatrix}\n",
        "a_{0j} \\\\ a_{1j} \\\\ \\vdots \\\\ a_{\\tilde{m}j}\n",
        "\\end{bmatrix}$$\n",
        "$$A[k]:=A[k//n, \\, k\\%n]$$\n",
        "\n",
        "A menos que se indique lo contrario, asumiremos que $A[i,j]$   se refiere\n",
        "para $i \\in range(A.rows)$ y para $j \\in range(A.cols)$.\n",
        "\n",
        "\n",
        "\n",
        "\n",
        "\n",
        "### Ejemplos"
      ],
      "metadata": {
        "id": "hR2pHp0x7SU_"
      }
    },
    {
      "cell_type": "code",
      "source": [
        "from sympy import Matrix\n",
        "\n",
        "A = Matrix([\n",
        "    (-1, -2, -3),\n",
        "    ( 9,  8,  7)\n",
        "])  # 2x3 matrix\n",
        "A"
      ],
      "metadata": {
        "colab": {
          "base_uri": "https://localhost:8080/",
          "height": 58
        },
        "id": "WfsghLCyRNw5",
        "outputId": "c8d3f367-5898-4458-9e9e-fd1d65bd6c9c"
      },
      "execution_count": null,
      "outputs": [
        {
          "output_type": "execute_result",
          "data": {
            "text/plain": [
              "Matrix([\n",
              "[-1, -2, -3],\n",
              "[ 9,  8,  7]])"
            ],
            "text/latex": "$\\displaystyle \\left[\\begin{matrix}-1 & -2 & -3\\\\9 & 8 & 7\\end{matrix}\\right]$"
          },
          "metadata": {},
          "execution_count": 43
        }
      ]
    },
    {
      "cell_type": "code",
      "source": [
        "A.rows"
      ],
      "metadata": {
        "colab": {
          "base_uri": "https://localhost:8080/"
        },
        "id": "clSlkFHkW7lY",
        "outputId": "9b906205-ce7b-4492-a04e-a26b991e1ec7"
      },
      "execution_count": null,
      "outputs": [
        {
          "output_type": "execute_result",
          "data": {
            "text/plain": [
              "2"
            ]
          },
          "metadata": {},
          "execution_count": 25
        }
      ]
    },
    {
      "cell_type": "code",
      "source": [
        "A.cols"
      ],
      "metadata": {
        "colab": {
          "base_uri": "https://localhost:8080/"
        },
        "id": "Tpt96BhSW7iT",
        "outputId": "d1d9e3ce-ff22-486c-d1df-cf6a86e2623d"
      },
      "execution_count": null,
      "outputs": [
        {
          "output_type": "execute_result",
          "data": {
            "text/plain": [
              "3"
            ]
          },
          "metadata": {},
          "execution_count": 26
        }
      ]
    },
    {
      "cell_type": "code",
      "source": [
        "A.shape"
      ],
      "metadata": {
        "colab": {
          "base_uri": "https://localhost:8080/"
        },
        "id": "PfX1aekiW7ck",
        "outputId": "72fedc76-89bb-4966-d361-6281305ac24a"
      },
      "execution_count": null,
      "outputs": [
        {
          "output_type": "execute_result",
          "data": {
            "text/plain": [
              "(2, 3)"
            ]
          },
          "metadata": {},
          "execution_count": 27
        }
      ]
    },
    {
      "cell_type": "code",
      "source": [
        "A"
      ],
      "metadata": {
        "colab": {
          "base_uri": "https://localhost:8080/",
          "height": 58
        },
        "id": "hE6FkEF6XrLb",
        "outputId": "f0702695-2aed-4195-edfb-3201ab4e7e1e"
      },
      "execution_count": null,
      "outputs": [
        {
          "output_type": "execute_result",
          "data": {
            "text/plain": [
              "Matrix([\n",
              "[-1, -2, -3],\n",
              "[ 9,  8,  7]])"
            ],
            "text/latex": "$\\displaystyle \\left[\\begin{matrix}-1 & -2 & -3\\\\9 & 8 & 7\\end{matrix}\\right]$"
          },
          "metadata": {},
          "execution_count": 29
        }
      ]
    },
    {
      "cell_type": "code",
      "source": [
        "A[1,2]"
      ],
      "metadata": {
        "colab": {
          "base_uri": "https://localhost:8080/",
          "height": 37
        },
        "id": "OEeJO96wXOz1",
        "outputId": "acd3b623-23ad-4054-cf78-1fbcfa265449"
      },
      "execution_count": null,
      "outputs": [
        {
          "output_type": "execute_result",
          "data": {
            "text/plain": [
              "7"
            ],
            "text/latex": "$\\displaystyle 7$"
          },
          "metadata": {},
          "execution_count": 30
        }
      ]
    },
    {
      "cell_type": "code",
      "source": [
        "A[1,:]"
      ],
      "metadata": {
        "colab": {
          "base_uri": "https://localhost:8080/",
          "height": 39
        },
        "id": "-Kazf_Ml0lIH",
        "outputId": "ccb6789d-2080-45b6-8f67-a7249ac15b71"
      },
      "execution_count": null,
      "outputs": [
        {
          "output_type": "execute_result",
          "data": {
            "text/plain": [
              "Matrix([[9, 8, 7]])"
            ],
            "text/latex": "$\\displaystyle \\left[\\begin{matrix}9 & 8 & 7\\end{matrix}\\right]$"
          },
          "metadata": {},
          "execution_count": 38
        }
      ]
    },
    {
      "cell_type": "code",
      "source": [
        "A[:,2]"
      ],
      "metadata": {
        "colab": {
          "base_uri": "https://localhost:8080/",
          "height": 58
        },
        "id": "hAsEGPX40ohT",
        "outputId": "d4f956ba-c82a-4f78-c3df-263641670654"
      },
      "execution_count": null,
      "outputs": [
        {
          "output_type": "execute_result",
          "data": {
            "text/plain": [
              "Matrix([\n",
              "[-3],\n",
              "[ 7]])"
            ],
            "text/latex": "$\\displaystyle \\left[\\begin{matrix}-3\\\\7\\end{matrix}\\right]$"
          },
          "metadata": {},
          "execution_count": 39
        }
      ]
    },
    {
      "cell_type": "code",
      "source": [
        "A[5]"
      ],
      "metadata": {
        "colab": {
          "base_uri": "https://localhost:8080/",
          "height": 37
        },
        "id": "EdSpnjiOXgGn",
        "outputId": "63f3231d-2de7-4fe9-a807-7d9e11ba9f74"
      },
      "execution_count": null,
      "outputs": [
        {
          "output_type": "execute_result",
          "data": {
            "text/plain": [
              "7"
            ],
            "text/latex": "$\\displaystyle 7$"
          },
          "metadata": {},
          "execution_count": 31
        }
      ]
    },
    {
      "cell_type": "markdown",
      "source": [
        "## Igualdad de Matricies\n",
        "\n",
        "Dos matrices $A$ y $B$ son iguales si tienen la misma forma ($A.shape==B.shape$) y tienen los mismo elementos ($A[i,j]==B[i,j]$).\n",
        "\n",
        "## Tipos de Matrices\n",
        "\n",
        "A continuación se presentan los principales tipos de matrices en álgebra lineal:\n",
        "\n",
        "\n",
        "### Matriz Cero o Nula\n",
        "En una **matriz cero** (o **matriz nula**) todos sus elementos son cero ($A[i,j]=0$), y se denota $0_{m \\times n}$.\n",
        "\n",
        "#### Ejemplo\n",
        "\n",
        "$$\n",
        "0_{2 \\times 3} := \\begin{bmatrix} 0 & 0 & 0 \\\\ 0 & 0 & 0 \\end{bmatrix}\n",
        "$$\n",
        "\n",
        "### Matriz Cuadrada\n",
        "Una matriz $A$ es **cuadrada** si el número de renglones y columnas es el mismo ($ A.rows == A.cols $) y este numero se conoce como el **orden**.\n",
        "\n",
        "La **diagonal principal** está formada por las posiciones $i,i$\n",
        "\n",
        "\n",
        "\n",
        "\n",
        "\n",
        "#### Ejemplo\n",
        "\n",
        "$$\n",
        "A := \\begin{bmatrix} 4 & 5 \\\\ 9 & 3  \\end{bmatrix}\n",
        "$$\n",
        "\n",
        "El orden de $A$ es 2.\n",
        "\n",
        "En la diagonal principal están el 4 y el 3.\n",
        "\n",
        "\n",
        "### Matriz Triangular Superior\n",
        "Una **matriz triangular superior**  es una matriz cuadrada donde todos los elementos por debajo de la diagonal son cero. (Si $i > j$ entonces $A[i,j]=0$ )\n",
        "\n",
        "#### Ejemplo\n",
        "\n",
        "$$\n",
        "U := \\begin{bmatrix} a & b \\\\ 0 & c \\end{bmatrix}\n",
        "$$\n",
        "\n",
        "### Matriz Triangular Inferior\n",
        "Una **matriz triangular inferior**  es una matriz cuadrada donde todos los elementos por encima de la diagonal son cero. (Si $i < j$ entonces $A[i,j]=0$ )\n",
        "\n",
        "$$\n",
        "L := \\begin{bmatrix} a & 0 \\\\ b & c \\end{bmatrix}\n",
        "$$\n",
        "\n",
        "\n",
        "### Matriz Diagonal\n",
        "Una **matriz diagonal** es una matriz cuadrada y tiene valores distintos de cero solo en la diagonal principal. (Si $i \\neq j$ entonces $A[i,j]=0$ )\n",
        "\n",
        "#### Ejemplo\n",
        "\n",
        "$$\n",
        "D := \\begin{bmatrix} a & 0 \\\\ 0 & b \\end{bmatrix}\n",
        "$$\n",
        "\n",
        "\n",
        "\n",
        "### Matriz Escalar\n",
        "Una **matriz escalar** es una matriz diagonal en la cual todos los elementos de la diagonal principal son iguales. ($A[i,i]=A[0,0]$)\n",
        "\n",
        "#### Ejemplo\n",
        "\n",
        "$$\n",
        "S := \\begin{bmatrix} k & 0 \\\\ 0 & k \\end{bmatrix}\n",
        "$$\n",
        "\n",
        "\n",
        "### Matriz Identidad\n",
        "La **matriz identidad de orden $n$** ($I_n$) es una matriz diagonal con unos en la diagonal. (Si $i==j$ entonces $A[i,j]= 1$,  si no $A[i,j]= 0$ )\n",
        "\n",
        "$$\n",
        "I_n :=\n",
        "\\begin{bmatrix}\n",
        "1 & 0 & \\cdots & 0 \\\\\n",
        "0 & 1 & \\cdots & 0 \\\\\n",
        "\\vdots & \\vdots & \\ddots & \\vdots \\\\\n",
        "0 & 0 & \\cdots & 1\n",
        "\\end{bmatrix}\n",
        "$$\n",
        "\n",
        "\n",
        "\n",
        "#### Ejemplo\n",
        "\n",
        "$$\n",
        "I_2 := \\begin{bmatrix} 1 & 0 \\\\ 0 & 1 \\end{bmatrix}\n",
        "$$\n",
        "\n",
        "\n",
        "\n",
        "\n",
        "\n",
        "\n"
      ],
      "metadata": {
        "id": "IAQBQ6NIdbXF"
      }
    },
    {
      "cell_type": "markdown",
      "source": [
        "## Transpuesta de una matriz (T)\n",
        "\n",
        "Dada una matriz\n",
        "\n",
        "$$\n",
        "A=\\begin{bmatrix}\n",
        "a_{00} & a_{01} & \\cdots & a_{0ñ} \\\\\n",
        "a_{10} & a_{11} & \\cdots & a_{1ñ} \\\\\n",
        "\\vdots & \\vdots & \\ddots & \\vdots \\\\\n",
        "a_{\\tilde{m}0} & a_{\\tilde{m}1} & \\cdots & a_{\\tilde{m}ñ} \\\\\n",
        "\\end{bmatrix} \\in \\mathbb{R}^{m \\times n}\n",
        "$$\n",
        "\n",
        "La **transpuesta** de una matriz se define\n",
        "\n",
        "\n",
        "$$\n",
        "B:=A^\\top=\\begin{bmatrix}\n",
        "a_{00} & a_{10} & \\cdots & a_{ñ0} \\\\\n",
        "a_{01} & a_{11} & \\cdots & a_{ñ1} \\\\\n",
        "\\vdots & \\vdots & \\ddots & \\vdots \\\\\n",
        "a_{0\\tilde{m}} & a_{1\\tilde{m}} & \\cdots & a_{ñ\\tilde{m}} \\\\\n",
        "\\end{bmatrix}\n",
        "$$\n",
        "\n",
        "O lo que es lo mismo, se intercambian los índices\n",
        "\n",
        "$$\n",
        "B[j,i]:=A[i,j]\n",
        "$$\n",
        "\n",
        "Es de resaltar que $$B.cols:=A.rows$$ y que $$B.rows:=A.cols$$\n",
        "### Ejemplo\n"
      ],
      "metadata": {
        "id": "8xQ3wphMRKOz"
      }
    },
    {
      "cell_type": "code",
      "source": [
        "from sympy import Matrix\n",
        "\n",
        "A = Matrix([\n",
        "    (-1, -2, -3),\n",
        "    ( 9,  8,  7)\n",
        "])  # 2x3 matrix\n",
        "A"
      ],
      "metadata": {
        "colab": {
          "base_uri": "https://localhost:8080/",
          "height": 58
        },
        "id": "MuRgS-ETbukk",
        "outputId": "5e046d01-4c17-4075-84ef-cd4802288fec"
      },
      "execution_count": null,
      "outputs": [
        {
          "output_type": "execute_result",
          "data": {
            "text/plain": [
              "Matrix([\n",
              "[-1, -2, -3],\n",
              "[ 9,  8,  7]])"
            ],
            "text/latex": "$\\displaystyle \\left[\\begin{matrix}-1 & -2 & -3\\\\9 & 8 & 7\\end{matrix}\\right]$"
          },
          "metadata": {},
          "execution_count": 33
        }
      ]
    },
    {
      "cell_type": "code",
      "source": [
        "B=A.T\n",
        "B"
      ],
      "metadata": {
        "colab": {
          "base_uri": "https://localhost:8080/",
          "height": 78
        },
        "id": "1Xl-YT3Kb1ia",
        "outputId": "59238808-6351-44fa-ed36-62a80818ad7e"
      },
      "execution_count": null,
      "outputs": [
        {
          "output_type": "execute_result",
          "data": {
            "text/plain": [
              "Matrix([\n",
              "[-1, 9],\n",
              "[-2, 8],\n",
              "[-3, 7]])"
            ],
            "text/latex": "$\\displaystyle \\left[\\begin{matrix}-1 & 9\\\\-2 & 8\\\\-3 & 7\\end{matrix}\\right]$"
          },
          "metadata": {},
          "execution_count": 34
        }
      ]
    },
    {
      "cell_type": "markdown",
      "source": [
        "### Propiedades\n",
        "* Si $A$ es una Matriz\n",
        "$$\n",
        "   (A^\\top)^\\top = A\n",
        "$$\n",
        "\n",
        "* Si $ D $ es una matriz diagonal  \n",
        " $$  \n",
        "   D^\\top = D\n",
        "$$  \n",
        "\n",
        "* Para cada una de las operaciones que se definirán ($+,*,@,^{n}$) hay que determinar como se relacionan con la operación transpuesta.\n",
        "\n",
        "### Matriz Simétrica\n",
        "Una matriz cuadrada que cumple  $$ A^\\top == A $$ entonces se dice que $A$ es una **matriz simétrica**.\n",
        "\n",
        "Es de notar que los elementos de una matriz simétrica se reflejan respecto a la diagonal principal\n",
        "\n",
        "#### Ejemplo\n",
        "$$\n",
        "A := \\begin{bmatrix} a & b \\\\ b & c \\end{bmatrix}\n",
        "$$\n",
        "\n",
        "### Matriz Antisimétrica\n",
        "Una matriz cuadrada que cumple   $$ A^\\top == -A $$ entonces se dice que $A$ es una **matriz antisimétrica**. (Recuerde que $(-A)[i,j]=-(A[i,j])$ )\n",
        "\n",
        "Es de notar que los elementos de una matriz antísimétrica al reflejarse respecto a la diagonal principal cambian de signo y por lo tanto la digonal principal es cero.\n",
        "\n",
        "$$\n",
        "A := \\begin{bmatrix} 0 & -b \\\\ b & 0 \\end{bmatrix}\n",
        "$$\n",
        "\n",
        "\n",
        "### Temas avanzados relacionados\n",
        "* Redes de Hopfield\n",
        "https://github.com/GerardoMunoz/ML_2025/blob/main/Hopfield_Covariance.ipynb\n",
        "\n",
        "\n"
      ],
      "metadata": {
        "id": "od3jagZAbx3y"
      }
    },
    {
      "cell_type": "markdown",
      "source": [
        "## Producto punto\n",
        "\n",
        "Dados dos vectores $\\vec{v}$ y $\\vec{u}$ con la misma dimensión ($v.shape==u.shape$)\n",
        "\n",
        "$$\n",
        "\\vec{u}:=\\begin{bmatrix}\n",
        "u_{0} & u_{1} & \\cdots & u_{ñ}\n",
        "\\end{bmatrix} \\in \\mathbb{R}^{1 \\times n}\n",
        "$$\n",
        "$$\n",
        "\\vec{v}:=\\begin{bmatrix}\n",
        "v_{0} & v_{1} & \\cdots & v_{ñ}\n",
        "\\end{bmatrix} \\in \\mathbb{R}^{1 \\times n}\n",
        "$$\n",
        "\n",
        "\n",
        "El **producto punto** se denotada $\\vec{u} \\cdot \\vec{v}$ se define\n",
        "\n",
        "\n",
        "$$\n",
        "\\vec{u} \\cdot \\vec{v}:=\\begin{bmatrix}\n",
        "u_{0} & u_{1} & \\cdots & u_{ñ}\n",
        "\\end{bmatrix} \\cdot \\begin{bmatrix}\n",
        "v_{0} & v_{1} & \\cdots & v_{ñ}\n",
        "\\end{bmatrix}\n",
        "=u_{0} \\cdot v_{0} + u_{1} \\cdot v_{1} + \\cdots + u_{ñ}\\cdot v_{ñ}\n",
        "$$\n",
        "\n",
        "O lo que el lo mismo\n",
        "\n",
        "$$\n",
        "\\vec{u} \\cdot \\vec{v}:= \\sum_{j\\in range(n)} \\vec{u}[j] \\cdot \\vec{v}[j]\n",
        "$$\n",
        "Además\n",
        "\n",
        "$$C.shape:=A.shape$$\n",
        "\n",
        "### Ejemplo\n",
        "\n",
        "$$\n",
        "\\vec{u} \\cdot \\vec{v}:=\\begin{bmatrix}\n",
        "2 & 4 & 6\n",
        "\\end{bmatrix} \\cdot \\begin{bmatrix}\n",
        "-5 & 2 & 1\n",
        "\\end{bmatrix}\n",
        "=2 \\cdot (-5) + 4 \\cdot 2 + 6 \\cdot 1=4\n",
        "$$\n"
      ],
      "metadata": {
        "id": "UHW8PQ_OmdiO"
      }
    },
    {
      "cell_type": "code",
      "source": [
        "from sympy import Matrix\n",
        "\n",
        "u = Matrix([  [2, 4, 6]])\n",
        "u"
      ],
      "metadata": {
        "colab": {
          "base_uri": "https://localhost:8080/",
          "height": 39
        },
        "id": "7Bjfzh76r_w5",
        "outputId": "d16b7cf6-10b8-4233-946d-3f317865c753"
      },
      "execution_count": null,
      "outputs": [
        {
          "output_type": "execute_result",
          "data": {
            "text/plain": [
              "Matrix([[2, 4, 6]])"
            ],
            "text/latex": "$\\displaystyle \\left[\\begin{matrix}2 & 4 & 6\\end{matrix}\\right]$"
          },
          "metadata": {},
          "execution_count": 11
        }
      ]
    },
    {
      "cell_type": "code",
      "source": [
        "v = Matrix([  [-5, 2, 1]])\n",
        "v"
      ],
      "metadata": {
        "colab": {
          "base_uri": "https://localhost:8080/",
          "height": 39
        },
        "id": "w9Tt8wn6sLrY",
        "outputId": "51f80730-27db-4cd8-8161-59ee127d5324"
      },
      "execution_count": null,
      "outputs": [
        {
          "output_type": "execute_result",
          "data": {
            "text/plain": [
              "Matrix([[-5, 2, 1]])"
            ],
            "text/latex": "$\\displaystyle \\left[\\begin{matrix}-5 & 2 & 1\\end{matrix}\\right]$"
          },
          "metadata": {},
          "execution_count": 12
        }
      ]
    },
    {
      "cell_type": "code",
      "source": [
        "u.dot(v)"
      ],
      "metadata": {
        "colab": {
          "base_uri": "https://localhost:8080/",
          "height": 37
        },
        "id": "r71y-W0OsV70",
        "outputId": "c6556688-9bdb-4eb5-ef79-f298d3f0cbb8"
      },
      "execution_count": null,
      "outputs": [
        {
          "output_type": "execute_result",
          "data": {
            "text/plain": [
              "4"
            ],
            "text/latex": "$\\displaystyle 4$"
          },
          "metadata": {},
          "execution_count": 13
        }
      ]
    },
    {
      "cell_type": "markdown",
      "source": [
        "## Escalar por matriz (*)\n",
        "\n",
        "Dada una matriz\n",
        "\n",
        "$$\n",
        "A:=\\begin{bmatrix}\n",
        "a_{00} & a_{01} & \\cdots & a_{0ñ} \\\\\n",
        "a_{10} & a_{11} & \\cdots & a_{1ñ} \\\\\n",
        "\\vdots & \\vdots & \\ddots & \\vdots \\\\\n",
        "a_{\\tilde{m}0} & a_{\\tilde{m}1} & \\cdots & a_{\\tilde{m}ñ} \\\\\n",
        "\\end{bmatrix} \\in \\mathbb{R}^{m \\times n}\n",
        "$$\n",
        "\n",
        "y un escalar $k \\in \\mathbb{R}$.\n",
        "\n",
        "El **producto de ecalar por matriz** denotado $kA$ o también $k{*}A$ se define\n",
        "\n",
        "\n",
        "$$\n",
        "B:=kA=k\\begin{bmatrix}\n",
        "a_{00} & a_{01} & \\cdots & a_{0ñ} \\\\\n",
        "a_{10} & a_{11} & \\cdots & a_{1ñ} \\\\\n",
        "\\vdots & \\vdots & \\ddots & \\vdots \\\\\n",
        "a_{\\tilde{m}0} & a_{\\tilde{m}1} & \\cdots & a_{\\tilde{m}ñ} \\\\\n",
        "\\end{bmatrix}=\\begin{bmatrix}\n",
        "ka_{00} & ka_{01} & \\cdots & ka_{0ñ} \\\\\n",
        "ka_{10} & ka_{11} & \\cdots & ka_{1ñ} \\\\\n",
        "\\vdots & \\vdots & \\ddots & \\vdots \\\\\n",
        "ka_{\\tilde{m}0} & ka_{\\tilde{m}1} & \\cdots & ka_{\\tilde{m}ñ} \\\\\n",
        "\\end{bmatrix}\n",
        "$$\n",
        "\n",
        "O lo que el lo mismo\n",
        "\n",
        "$$\n",
        "B[i,j]:=kA[i,j]\n",
        "$$\n",
        "\n",
        "Además\n",
        "\n",
        "$$B.shape:=A.shape$$\n",
        "\n",
        "### Ejemplo\n"
      ],
      "metadata": {
        "id": "s-2UoD1mQbyB"
      }
    },
    {
      "cell_type": "code",
      "source": [
        "from sympy import Matrix\n",
        "\n",
        "A = Matrix([\n",
        "    (-1, -2, -3),\n",
        "    ( 9,  8,  7)\n",
        "])  # 2x3 matrix\n",
        "A"
      ],
      "metadata": {
        "colab": {
          "base_uri": "https://localhost:8080/",
          "height": 58
        },
        "id": "1zb3pxuPTTV2",
        "outputId": "b885d068-2893-469a-d734-11edcea19efe"
      },
      "execution_count": null,
      "outputs": [
        {
          "output_type": "execute_result",
          "data": {
            "text/plain": [
              "Matrix([\n",
              "[-1, -2, -3],\n",
              "[ 9,  8,  7]])"
            ],
            "text/latex": "$\\displaystyle \\left[\\begin{matrix}-1 & -2 & -3\\\\9 & 8 & 7\\end{matrix}\\right]$"
          },
          "metadata": {},
          "execution_count": 40
        }
      ]
    },
    {
      "cell_type": "code",
      "source": [
        "2*A"
      ],
      "metadata": {
        "colab": {
          "base_uri": "https://localhost:8080/",
          "height": 58
        },
        "id": "Mx5MzJxnTVS9",
        "outputId": "75975a9a-bcd7-41e1-a439-934831754a9b"
      },
      "execution_count": null,
      "outputs": [
        {
          "output_type": "execute_result",
          "data": {
            "text/plain": [
              "Matrix([\n",
              "[-2, -4, -6],\n",
              "[18, 16, 14]])"
            ],
            "text/latex": "$\\displaystyle \\left[\\begin{matrix}-2 & -4 & -6\\\\18 & 16 & 14\\end{matrix}\\right]$"
          },
          "metadata": {},
          "execution_count": 41
        }
      ]
    },
    {
      "cell_type": "markdown",
      "source": [
        "## Suma de matrices (+)\n",
        "\n",
        "Dadas dos matrices $A$ y $B$ del mismo tamaño ($A.shape==B.shape$)\n",
        "\n",
        "$$\n",
        "A:=\\begin{bmatrix}\n",
        "a_{00} & a_{01} & \\cdots & a_{0ñ} \\\\\n",
        "a_{10} & a_{11} & \\cdots & a_{1ñ} \\\\\n",
        "\\vdots & \\vdots & \\ddots & \\vdots \\\\\n",
        "a_{\\tilde{m}0} & a_{\\tilde{m}1} & \\cdots & a_{\\tilde{m}ñ} \\\\\n",
        "\\end{bmatrix} \\in \\mathbb{R}^{m \\times n}\n",
        "$$\n",
        "$$\n",
        "B:=\\begin{bmatrix}\n",
        "b_{00} & b_{01} & \\cdots & b_{0ñ} \\\\\n",
        "b_{10} & b_{11} & \\cdots & b_{1ñ} \\\\\n",
        "\\vdots & \\vdots & \\ddots & \\vdots \\\\\n",
        "b_{\\tilde{m}0} & b_{\\tilde{m}1} & \\cdots & b_{\\tilde{m}ñ} \\\\\n",
        "\\end{bmatrix} \\in \\mathbb{R}^{m \\times n}\n",
        "$$\n",
        "\n",
        "\n",
        "La **suma de matrices** denotada $A+B$ se define\n",
        "\n",
        "\n",
        "$$\n",
        "C:=A+B=\\begin{bmatrix}\n",
        "a_{00} & a_{01} & \\cdots & a_{0ñ} \\\\\n",
        "a_{10} & a_{11} & \\cdots & a_{1ñ} \\\\\n",
        "\\vdots & \\vdots & \\ddots & \\vdots \\\\\n",
        "a_{\\tilde{m}0} & a_{\\tilde{m}1} & \\cdots & a_{\\tilde{m}ñ} \\\\\n",
        "\\end{bmatrix}+\\begin{bmatrix}\n",
        "b_{00} & b_{01} & \\cdots & b_{0ñ} \\\\\n",
        "b_{10} & b_{11} & \\cdots & b_{1ñ} \\\\\n",
        "\\vdots & \\vdots & \\ddots & \\vdots \\\\\n",
        "b_{\\tilde{m}0} & b_{\\tilde{m}1} & \\cdots & b_{\\tilde{m}ñ} \\\\\n",
        "\\end{bmatrix}\n",
        "=\\begin{bmatrix}\n",
        "a_{00} + b_{00} & a_{01} + b_{01} & \\cdots & a_{0ñ} + b_{0ñ} \\\\\n",
        "a_{10} + b_{10} & a_{11} + b_{11} & \\cdots & a_{1ñ} + b_{1ñ} \\\\\n",
        "\\vdots & \\vdots & \\ddots & \\vdots \\\\\n",
        "a_{\\tilde{m}0} + b_{\\tilde{m}0} & a_{\\tilde{m}1} + b_{\\tilde{m}1} & \\cdots & a_{\\tilde{m}ñ} + b_{\\tilde{m}ñ} \\\\\n",
        "\\end{bmatrix}\n",
        "$$\n",
        "\n",
        "O lo que el lo mismo\n",
        "\n",
        "$$\n",
        "C[i,j]:=A[i,j] + B[i,j]\n",
        "$$\n",
        "Además\n",
        "\n",
        "$$C.shape:=A.shape$$\n",
        "\n",
        "### Ejemplo\n"
      ],
      "metadata": {
        "id": "Rfk5QeXGTrsy"
      }
    },
    {
      "cell_type": "code",
      "source": [
        "from sympy import Matrix\n",
        "\n",
        "A = Matrix([\n",
        "    (-1, -2, -3),\n",
        "    ( 9,  8,  7)\n",
        "])  # 2x3 matrix\n",
        "A"
      ],
      "metadata": {
        "colab": {
          "base_uri": "https://localhost:8080/",
          "height": 58
        },
        "id": "c_nSrHmOcvLx",
        "outputId": "158d34c7-197c-454c-e774-a70c77d160de"
      },
      "execution_count": null,
      "outputs": [
        {
          "output_type": "execute_result",
          "data": {
            "text/plain": [
              "Matrix([\n",
              "[-1, -2, -3],\n",
              "[ 9,  8,  7]])"
            ],
            "text/latex": "$\\displaystyle \\left[\\begin{matrix}-1 & -2 & -3\\\\9 & 8 & 7\\end{matrix}\\right]$"
          },
          "metadata": {},
          "execution_count": 45
        }
      ]
    },
    {
      "cell_type": "code",
      "source": [
        "B = Matrix([\n",
        "    ( 2, 5,  7),\n",
        "    (-4, 1, -2)\n",
        "])  # 2x3 matrix\n",
        "B"
      ],
      "metadata": {
        "colab": {
          "base_uri": "https://localhost:8080/",
          "height": 58
        },
        "id": "PjDHLA4Fcz7P",
        "outputId": "099042bc-a71a-4475-f7b3-f2ae24979566"
      },
      "execution_count": null,
      "outputs": [
        {
          "output_type": "execute_result",
          "data": {
            "text/plain": [
              "Matrix([\n",
              "[ 2, 5,  7],\n",
              "[-4, 1, -2]])"
            ],
            "text/latex": "$\\displaystyle \\left[\\begin{matrix}2 & 5 & 7\\\\-4 & 1 & -2\\end{matrix}\\right]$"
          },
          "metadata": {},
          "execution_count": 46
        }
      ]
    },
    {
      "cell_type": "code",
      "source": [
        "A+B"
      ],
      "metadata": {
        "colab": {
          "base_uri": "https://localhost:8080/",
          "height": 58
        },
        "id": "xH5siS3Sc-MH",
        "outputId": "29672d6f-f877-4477-fa4d-cd2714fa016d"
      },
      "execution_count": null,
      "outputs": [
        {
          "output_type": "execute_result",
          "data": {
            "text/plain": [
              "Matrix([\n",
              "[1, 3, 4],\n",
              "[5, 9, 5]])"
            ],
            "text/latex": "$\\displaystyle \\left[\\begin{matrix}1 & 3 & 4\\\\5 & 9 & 5\\end{matrix}\\right]$"
          },
          "metadata": {},
          "execution_count": 50
        }
      ]
    },
    {
      "cell_type": "markdown",
      "source": [
        "## Otras operaciones derivadas de las anteriores\n",
        "las siguentes opraciones:\n",
        "\n",
        "\n",
        "### Opuesto de una matriz\n",
        "Dada la matriz $A$ se define **el opuesto de una matriz** de la siguiente forma\n",
        "\n",
        "$$-A:=(-1)A$$\n",
        "\n",
        "\n",
        "### Resta de dos martices\n",
        "Dadas las matricies $A, B$ de tamaño $m \\times n$ , se define **resta de matrices** de la siguiente forma\n",
        "$$A-B:=A+(-B)$$\n",
        "\n",
        "\n",
        "\n"
      ],
      "metadata": {
        "id": "iGrCUuq2dSSA"
      }
    },
    {
      "cell_type": "markdown",
      "source": [
        "## Multiplicación de un Vector por una Matriz (@)\n",
        "\n",
        "\n",
        "### Combinación lineal\n",
        "\n",
        "\n",
        "La **combinación lineal** de los vectores $ \\vec{v}_1, \\vec{v}_2, \\dots, \\vec{v}_n $ con coeficientes escalares $ c_1, c_2, \\dots, c_n $ se define como:\n",
        "\n",
        "$$\n",
        "\\vec{v} = c_0 \\vec{v}_0 + c_1 \\vec{v}_1 + \\dots + c_\\tilde{m} \\vec{v}_\\tilde{m}\n",
        "$$\n",
        "\n",
        "\n",
        "Si representamos los vectores $ \\vec{v}_0, \\vec{v}_1, \\dots, \\vec{v}_\\tilde{m} $ como los renglones de una matriz $ A $, y los escalares como los elementos de un vector renglón $ \\vec{c} $, podemos escribir:\n",
        "\n",
        "\n",
        "\n",
        "$$\n",
        "A =\n",
        "\\begin{bmatrix}\n",
        "— \\vec{v}_0 — \\\\\n",
        "— \\vec{v}_1 — \\\\\n",
        "\\vdots \\\\\n",
        "— \\vec{v}_\\tilde{m} —\n",
        "\\end{bmatrix},\n",
        "\\quad\n",
        "\\vec{c} =\n",
        "\\begin{bmatrix}\n",
        "c_0 &\n",
        "c_1 &\n",
        "\\cdots &\n",
        "c_\\tilde{m}\n",
        "\\end{bmatrix}\n",
        "$$\n",
        "\n",
        "\n",
        "Entonces, la **combinación lineal** se puede expresar como una **multiplicación de vector por matriz**:\n",
        "\n",
        "$\n",
        "\\vec{v} = c_0 \\vec{v}_0 + c_1 \\vec{v}_1 + \\dots + c_\\tilde{m} \\vec{v}_\\tilde{m}\n",
        "$\n",
        "\n",
        "$\n",
        "\\vec{v} = \\begin{bmatrix} c_0 & c_1 & \\dots & c_\\tilde{m} \\end{bmatrix}\n",
        "\\begin{bmatrix}\n",
        "— \\vec{v}_0 — \\\\\n",
        "— \\vec{v}_1 — \\\\\n",
        "\\vdots \\\\\n",
        "— \\vec{v}_\\tilde{m} —\n",
        "\\end{bmatrix}\n",
        "$\n",
        "\n",
        "$\n",
        "\\vec{v}=\\vec{c} A\n",
        "$\n",
        "\n",
        "Por lo tanto, la **multiplicación de un vector $\\vec{c}$ por una matriz $A$** es una forma compacta de escribir una combinación lineal de los vectores renglón de la matriz $A$, escalados por los coeficientes del vector $\\vec{c}$. Y se denota $\\vec{c}A$ o también $\\vec{c}@A$.\n",
        "\n",
        "Es de resaltar que cada coeficiente de $\\vec{c}$ debe corresponder con un renglón de $A$. ($\\vec{c}.cols==A.rows$)\n",
        "\n",
        "\n",
        "### Vector de productos punto\n",
        "\n",
        "Si en vez de ver los datos de $A$ como vectores renglón, se miran como vectores columna la notación se puede simplificar utilizando el producto punto.\n",
        "\n",
        "$\n",
        "\\vec{v} =\n",
        "\\vec{c}\n",
        "\\begin{bmatrix}\n",
        "| & | &  & | \\\\\n",
        "\\vec{u}_0^T & \\vec{u}_1^T & \\dots & \\vec{u}_ñ^T \\\\\n",
        "| & | &  & |\n",
        "\\end{bmatrix}\n",
        "$\n",
        "\n",
        "$\n",
        "\\vec{v} =\n",
        "\\begin{bmatrix} \\vec{c} \\cdot \\vec{u}_0 & \\vec{c} \\cdot \\vec{u}_1 & \\dots & \\vec{c} \\cdot \\vec{u}_ñ\\end{bmatrix}\n",
        "$\n",
        "\n",
        "Por lo tanto\n",
        "\n",
        "$\\vec{v}[j]:=\\vec{c} \\cdot \\vec{u}_j$\n",
        "\n",
        "Además\n",
        "\n",
        "$v.cols:=A.cols$\n",
        "\n",
        "### Resumen\n",
        "La multiplicación de una matriz por un vector se puede visualizar como una combinación lineal o como un vector de productos punto.\n",
        "\n",
        "\n",
        "\n",
        "### Ejemplo"
      ],
      "metadata": {
        "id": "yDG5IZ_XTLzd"
      }
    },
    {
      "cell_type": "code",
      "source": [
        "from sympy import Matrix\n",
        "\n",
        "A = Matrix([\n",
        "    (-1, -2, -3),\n",
        "    ( 9,  8,  7)\n",
        "])  # 2x3 matrix\n",
        "A"
      ],
      "metadata": {
        "colab": {
          "base_uri": "https://localhost:8080/",
          "height": 58
        },
        "id": "rLkFUwC-kV29",
        "outputId": "8ec35135-16b6-46ea-a45e-c35fa56a8ce3"
      },
      "execution_count": null,
      "outputs": [
        {
          "output_type": "execute_result",
          "data": {
            "text/plain": [
              "Matrix([\n",
              "[-1, -2, -3],\n",
              "[ 9,  8,  7]])"
            ],
            "text/latex": "$\\displaystyle \\left[\\begin{matrix}-1 & -2 & -3\\\\9 & 8 & 7\\end{matrix}\\right]$"
          },
          "metadata": {},
          "execution_count": 7
        }
      ]
    },
    {
      "cell_type": "code",
      "source": [
        "c = Matrix([\n",
        "    [-1,2],\n",
        "])\n",
        "c"
      ],
      "metadata": {
        "colab": {
          "base_uri": "https://localhost:8080/",
          "height": 39
        },
        "id": "avHQS2lLkXKs",
        "outputId": "832b6c31-2b34-4305-b044-1b4d751705b3"
      },
      "execution_count": null,
      "outputs": [
        {
          "output_type": "execute_result",
          "data": {
            "text/plain": [
              "Matrix([[-1, 2]])"
            ],
            "text/latex": "$\\displaystyle \\left[\\begin{matrix}-1 & 2\\end{matrix}\\right]$"
          },
          "metadata": {},
          "execution_count": 8
        }
      ]
    },
    {
      "cell_type": "code",
      "source": [
        "c @ A"
      ],
      "metadata": {
        "colab": {
          "base_uri": "https://localhost:8080/",
          "height": 39
        },
        "id": "TAk_slI5kk5g",
        "outputId": "32f87283-e64c-48c2-d5c5-eefecc1db6fc"
      },
      "execution_count": null,
      "outputs": [
        {
          "output_type": "execute_result",
          "data": {
            "text/plain": [
              "Matrix([[19, 18, 17]])"
            ],
            "text/latex": "$\\displaystyle \\left[\\begin{matrix}19 & 18 & 17\\end{matrix}\\right]$"
          },
          "metadata": {},
          "execution_count": 10
        }
      ]
    },
    {
      "cell_type": "markdown",
      "source": [
        "### Transpuesta de vector por matriz\n",
        "\n",
        "Es fácil comprobar que\n",
        "\n",
        "$\n",
        "\\vec{v}^T=( \\vec{c} A)^T = A^T \\vec{c}^T\n",
        "$\n",
        "\n",
        "Entonces, la combinación lineal se puede expresar como una multiplicación de matriz por vector:\n",
        "\n",
        "$\n",
        "\\vec{v}^T = \\begin{bmatrix}\n",
        "| & | &  & | \\\\\n",
        "\\vec{v}_0^T & \\vec{v}_1^T & \\dots & \\vec{v}_ñ^T \\\\\n",
        "| & | &  & |\n",
        "\\end{bmatrix}\n",
        "\\begin{bmatrix}\n",
        "c_0 \\\\\n",
        "c_1 \\\\\n",
        "\\vdots \\\\\n",
        "c_ñ\n",
        "\\end{bmatrix}\n",
        "$\n",
        "\n",
        "$\n",
        "\\vec{v}^T=A^T \\vec{c}^T\n",
        "$\n",
        "\n",
        "Es de resaltar que la transpuesta conmuta el vector y la matriz. Esta notación es común el los textos que utilizan los vectores verticales."
      ],
      "metadata": {
        "id": "WGvFhvvBRnml"
      }
    },
    {
      "cell_type": "markdown",
      "source": [
        "## Multiplicación de dos Matrices (@)\n",
        "\n",
        "\n",
        "Dadas dos matrices $A$ y $B$ que cumplen que $k=A.cols==B.rows$\n",
        "\n",
        "$$A=\n",
        "\\begin{bmatrix}\n",
        "— \\vec{v}_0 — \\\\\n",
        "— \\vec{v}_1 — \\\\\n",
        "\\vdots \\\\\n",
        "— \\vec{v}_\\tilde{m} —\n",
        "\\end{bmatrix} \\in \\mathbb{R}^{m \\times k}\n",
        "$$\n",
        "$$B=\n",
        "\\begin{bmatrix}\n",
        "| & | &  & | \\\\\n",
        "\\vec{u}_0^T & \\vec{u}_1^T & \\dots & \\vec{u}_ñ^T \\\\\n",
        "| & | &  & |\n",
        "\\end{bmatrix} \\in \\mathbb{R}^{k \\times n}\n",
        "$$\n",
        "\n",
        "\n",
        "La **multiplicación de matrices** denotada $AB$ o también $A@B$ se define\n",
        "\n",
        "\n",
        "$$\n",
        "C:=AB=\\begin{bmatrix}\n",
        "— \\vec{v}_0 — \\\\\n",
        "— \\vec{v}_1 — \\\\\n",
        "\\vdots \\\\\n",
        "— \\vec{v}_\\tilde{m} —\n",
        "\\end{bmatrix}\n",
        "\\begin{bmatrix}\n",
        "| & | &  & | \\\\\n",
        "\\vec{u}_0^T & \\vec{u}_1^T & \\dots & \\vec{u}_ñ^T \\\\\n",
        "| & | &  & |\n",
        "\\end{bmatrix}\n",
        "=\\begin{bmatrix}\n",
        "\\vec{v}_0  \\cdot \\vec{u}_0 & \\vec{v}_0  \\cdot \\vec{u}_1 & \\cdots & \\vec{v}_0  \\cdot \\vec{u}_ñ \\\\\n",
        "\\vec{v}_1  \\cdot \\vec{u}_0 & \\vec{v}_1  \\cdot \\vec{u}_1 & \\cdots & \\vec{v}_1   \\cdot \\vec{u}_ñ \\\\\n",
        "\\vdots & \\vdots & \\ddots & \\vdots \\\\\n",
        "\\vec{v}_\\tilde{m}  \\cdot  \\vec{u}_0 & \\vec{v}_\\tilde{m}  \\cdot \\vec{u}_1 & \\cdots & \\vec{v}_\\tilde{m}  \\cdot  \\vec{u}_ñ\\\\\n",
        "\\end{bmatrix}\n",
        "$$\n",
        "\n",
        "O lo que el lo mismo\n",
        "\n",
        "$$\n",
        "C[i,j]:=\\vec{v}_i \\cdot \\vec{u}_j\n",
        "$$\n",
        "Además\n",
        "\n",
        "$$C.rows:=A.rows$$\n",
        "$$C.cols:=B.cols$$\n",
        "\n",
        "### Ejemplo\n"
      ],
      "metadata": {
        "id": "Adfr7k6Kh7UL"
      }
    },
    {
      "cell_type": "code",
      "source": [
        "from sympy import Matrix\n",
        "\n",
        "A = Matrix([\n",
        "    (-1, -2, -3),\n",
        "    ( 9,  8,  7)\n",
        "])  # 2x3 matrix\n",
        "A"
      ],
      "metadata": {
        "colab": {
          "base_uri": "https://localhost:8080/",
          "height": 58
        },
        "id": "RAD4XnHzzh1t",
        "outputId": "5003956e-066d-40d1-84a2-1be0af5d2a97"
      },
      "execution_count": null,
      "outputs": [
        {
          "output_type": "execute_result",
          "data": {
            "text/plain": [
              "Matrix([\n",
              "[-1, -2, -3],\n",
              "[ 9,  8,  7]])"
            ],
            "text/latex": "$\\displaystyle \\left[\\begin{matrix}-1 & -2 & -3\\\\9 & 8 & 7\\end{matrix}\\right]$"
          },
          "metadata": {},
          "execution_count": 1
        }
      ]
    },
    {
      "cell_type": "code",
      "source": [
        "B = Matrix([\n",
        "    (4, 8, 2, 0),\n",
        "    (6, 2, 5, 3),\n",
        "    (1, 8, 3, 0)\n",
        "])\n",
        "B"
      ],
      "metadata": {
        "colab": {
          "base_uri": "https://localhost:8080/",
          "height": 78
        },
        "id": "-ROC1LFPzlf8",
        "outputId": "8a100179-9e44-4301-edb5-0dd71070d79c"
      },
      "execution_count": null,
      "outputs": [
        {
          "output_type": "execute_result",
          "data": {
            "text/plain": [
              "Matrix([\n",
              "[4, 8, 2, 0],\n",
              "[6, 2, 5, 3],\n",
              "[1, 8, 3, 0]])"
            ],
            "text/latex": "$\\displaystyle \\left[\\begin{matrix}4 & 8 & 2 & 0\\\\6 & 2 & 5 & 3\\\\1 & 8 & 3 & 0\\end{matrix}\\right]$"
          },
          "metadata": {},
          "execution_count": 2
        }
      ]
    },
    {
      "cell_type": "code",
      "source": [
        "A@B"
      ],
      "metadata": {
        "colab": {
          "base_uri": "https://localhost:8080/",
          "height": 58
        },
        "id": "VrGeJTlE0HVe",
        "outputId": "f5352744-23aa-4082-d68a-344957c6a1b0"
      },
      "execution_count": null,
      "outputs": [
        {
          "output_type": "execute_result",
          "data": {
            "text/plain": [
              "Matrix([\n",
              "[-19, -36, -21, -6],\n",
              "[ 91, 144,  79, 24]])"
            ],
            "text/latex": "$\\displaystyle \\left[\\begin{matrix}-19 & -36 & -21 & -6\\\\91 & 144 & 79 & 24\\end{matrix}\\right]$"
          },
          "metadata": {},
          "execution_count": 3
        }
      ]
    },
    {
      "cell_type": "code",
      "source": [
        "#B@A  #ShapeError"
      ],
      "metadata": {
        "id": "6qLJLvjT0K2-"
      },
      "execution_count": null,
      "outputs": []
    },
    {
      "cell_type": "markdown",
      "source": [
        "### Producto punto como multiplicación matricial\n",
        "\n",
        "Dados dos vectores $\\vec{u}, \\vec{v} \\in \\mathbb{R}^n$\n",
        "\n",
        "$$\n",
        "\\vec{u} \\cdot \\vec{v} = \\vec{u} \\vec{v}^T\n",
        "$$\n",
        "\n",
        "Es más, si los vectores son de diferentes dimensiones $\\vec{u}\\in \\mathbb{R}^m, \\vec{v} \\in \\mathbb{R}^n$, y hay una matriz $ A \\in \\mathbb{R}^{m \\times n}$. Se cumple que\n",
        "\n",
        "$$\n",
        "(\\vec{u}A) \\cdot \\vec{v} = \\vec{u} \\cdot (\\vec{v} A^T)\n",
        "$$"
      ],
      "metadata": {
        "id": "Qp4Q8jDYM7WL"
      }
    },
    {
      "cell_type": "code",
      "source": [
        "import numpy as np\n",
        "\n",
        "v = np.array([(1, 2)])  # Vector renglón\n",
        "A = np.array([(3, 4), (5, 6)])\n",
        "u = np.array([(7, 8)])  # Vector renglón\n",
        "\n",
        "# Cálculo de ambos lados\n",
        "res1 = np.inner(u @ A, v)\n",
        "res2 = np.inner(u, v @ A.T )\n",
        "\n",
        "print(res1, res2)  # Ambos deben dar lo mismo\n"
      ],
      "metadata": {
        "colab": {
          "base_uri": "https://localhost:8080/"
        },
        "id": "73NaO_RTR0L-",
        "outputId": "1966b888-f597-481a-c935-14b0501fd0cb"
      },
      "execution_count": null,
      "outputs": [
        {
          "output_type": "stream",
          "name": "stdout",
          "text": [
            "[[213]] [[213]]\n"
          ]
        }
      ]
    },
    {
      "cell_type": "markdown",
      "source": [
        "\n",
        "## Potencia (entera positiva) de una Matriz\n",
        "\n",
        "Dada una matriz cuadrada $ A \\in \\mathbb{R}^{n \\times n} $ y un número natural $ p \\in \\mathbb{N} $, se define la potencia de la matriz $ A $ como la multiplicación iterativa de la matriz por sí misma:\n",
        "\n",
        "$$\n",
        "A^p := \\underbrace{A A  \\dots  A}_{p \\text{ veces}}\n",
        "$$\n",
        "\n",
        "$$\n",
        "A^1 := A\n",
        "$$\n",
        "\n",
        "$$\n",
        "A^0 := I_n\n",
        "$$\n",
        "\n",
        "\n",
        "\n",
        "Formalmente, la potencia se define recursivamente como:\n",
        "\n",
        "$$\n",
        "A^0 := I_n\n",
        "$$\n",
        "\n",
        "$$\n",
        "A^p := A A^{p-1}, \\quad \\text{para } p \\geq 1\n",
        "$$\n",
        "\n",
        "Por lo tanto\n",
        "$$(A^p).shape:=A.shape$$\n",
        "\n",
        "\n"
      ],
      "metadata": {
        "id": "TjvwKsRJ0xa2"
      }
    },
    {
      "cell_type": "markdown",
      "source": [
        "\n",
        "\n",
        "## Propiedades de las operaciones matriciales\n",
        "\n",
        "Supongamos que la matriz  $A$ es de $m \\times n$ y las matrices $B$ y $C$ tienen la forma adecuada para realizar la operación. $a,b,c \\in \\mathbb{R}$\n",
        "\n",
        "\n",
        "|                     | ----------------- **Reales** ----------------- | --------------------- **Matrices** --------------------- |\n",
        "|---------------------|----------------------------------|--------------------------------------|\n",
        "| *Suma $ \\\\ $ conmutativa*  | $ a + b = b + a $             | $ A + B = B + A $                 |\n",
        "| *~Mult. conmutativa~* | $ ab = ba $                   | ¡$ a \\begin{bmatrix}1 & 0\\\\ 0 & 1\\end{bmatrix} $ pero no $ \\begin{bmatrix} 1 & 0\\\\ 0 & 1\\end{bmatrix} a$ ✗! <br> ¡$\\begin{bmatrix}2 & 0\\\\ 0 & 0\\end{bmatrix}\\begin{bmatrix}0 & 1\\\\ 1 & 0\\end{bmatrix}\\neq\\begin{bmatrix}0 & 1\\\\ 1 & 0\\end{bmatrix}\\begin{bmatrix}2 & 0\\\\ 0 & 0\\end{bmatrix}$!|\n",
        "| *Suma asociativa*   | $ (a + b) + c = a + (b + c) $ | $ (A + B) + C = A + (B + C) $     |\n",
        "| *Mult. asociativa*  | $ (ab)c = a(bc) $             | $ (ab)C = a(bC) $  <br> $ (aB)C = a(BC) $ <br> $ (AB)C = A(BC) $ |\n",
        "| *Modulativa*        | $ a + 0 = a $                 | $ A + 0_{m \\times n} = A $        |\n",
        "| *Identidad*         | $ 1a = a $                    | $ 1A = A $ <br> $ I_mA = A $ <br> $ AI_n = A $ |\n",
        "| *Nulidad*           | $ 0a = 0 $                    | $ 0A_{m \\times n} = 0_{m \\times n} $ <br> $ 0_{k \\times m} A_{m \\times n} = 0_{k \\times n} $ <br> $ A_{m \\times n} 0_{n \\times k} = 0_{m \\times k} $ |\n",
        "| *Opuesto*           | $ a + (-a) = 0 $              | $ A + (-A) = 0_{m \\times n} $    |\n",
        "| *Distributiva I*    | $ (a + b)c = ac + bc $        | $ (a + b)C = aC + bC $ <br> $ (A + B)C = AC + BC $ |\n",
        "| *Distributiva D*    | $ a(b + c) = ab + ac $        | $ a(B + C) = aB + aC $ <br> $ A(B + C) = AB + AC $            |\n",
        "| *Potencia* <br> de matriz <br> cuadrada <br> $p,q \\in  \\mathbb{Z}$ |          $ a^0 = 1 $ <br> $ a^1 = a $ <br> $(ca)^p=c^p a^p $ <br> <br>  $ a^p a^q = a^{p+q} $  <br> $ (a^p)^q = a^{pq} $                          |     $ A^0 = I_n $ <br> $ A^1 = A $ <br> $(cA)^p=c^p A^p $ <br> ¡$(CA)^p \\neq C^p A^p $! <br>  $ A^p A^q = A^{p+q} $  <br> $ (A^p)^q = A^{pq} $ |\n",
        "| *Transpuesta* |   | $(A^\\top)^\\top = A $ <br> $ (A + B)^\\top = A^\\top + B^\\top$ <br> $ (c A)^\\top = c A^\\top$ <br> $ (AB)^\\top = B^\\top A^\\top $ <br> $  (A^{p})^\\top = (A^\\top)^{p} $ <br> $ $ <br> $ $ |\n",
        "\n",
        "### Preguntas\n",
        "Comprube si son verdaderas o falsas las siguientes igualdades.\n",
        "* $0_{k \\times m} A_{m \\times n} \\, =?\\quad 0A_{m \\times n} \\, =?\\quad A_{m \\times n} 0_{n \\times k} \\, =?\\quad 0_{k \\times m} A_{m \\times n} $\n",
        "* $\\left(\\begin{bmatrix}2 & 0\\\\ 0 & 0\\end{bmatrix}\\begin{bmatrix}0 & 1\\\\ 1 & 0\\end{bmatrix}\\right)^\\top \\, =? \\quad \\begin{bmatrix}2 & 0\\\\ 0 & 0\\end{bmatrix}^\\top \\begin{bmatrix}0 & 1\\\\ 1 & 0\\end{bmatrix}^\\top$ ¿Cómo se relaciona con la respectiva propiedad?\n",
        "* $(A+B)^2 \\, =?\\quad A^2 + 2AB + B^2$\n"
      ],
      "metadata": {
        "id": "tSjsjIu8h_3E"
      }
    },
    {
      "cell_type": "markdown",
      "source": [
        "## Temas avanzados relacionados\n",
        "* Perceptrón\n",
        "https://github.com/GerardoMunoz/ML_2025/blob/main/Perceptron_0_Gradient_Descent.ipynb\n",
        "https://github.com/GerardoMunoz/ML_2025/blob/main/Perceptron_1_Three_inputs.ipynb\n",
        "https://github.com/GerardoMunoz/ML_2025/blob/main/Perceptron_2_Two_outputs.ipynb"
      ],
      "metadata": {
        "id": "rHZmg_i6VSCJ"
      }
    }
  ]
}