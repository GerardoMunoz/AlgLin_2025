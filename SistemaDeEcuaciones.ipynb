{
  "cells": [
    {
      "cell_type": "markdown",
      "metadata": {
        "id": "view-in-github",
        "colab_type": "text"
      },
      "source": [
        "<a href=\"https://colab.research.google.com/github/GerardoMunoz/AlgLin_2025/blob/main/SistemaDeEcuaciones.ipynb\" target=\"_parent\"><img src=\"https://colab.research.google.com/assets/colab-badge.svg\" alt=\"Open In Colab\"/></a>"
      ]
    },
    {
      "cell_type": "markdown",
      "metadata": {
        "id": "9JJwGTAXT3_x"
      },
      "source": [
        "# ¡Advertencia!             ¡Warning!           ¡警告する!\n",
        "\n",
        "Seguramente todos saben resolver sistemas de ecuaciones. Sin embargo, esta clase va más allá. Se da una serie de **definiciones** y **procedimientos** que en este momento pueden parecer evidentes y sin importancia, pero son las bases de lo que sigue y cualquier pequeña equivocación en las **'bases'** hace que todo el edificio se caiga.\n",
        "\n",
        "Muchos de los estudiantes perdieron la materia el semestre pasado debió a que no sabían realizar el procedimiento tal como se presenta en esta clase.\n",
        "\n",
        "Por favor, ¡No subestime los contenidos de esta clase! **Esta clase va más allá que despejar un sistema de ecuaciones**"
      ]
    },
    {
      "cell_type": "markdown",
      "source": [
        "# Vectores\n",
        " Un vector en $\\mathbb{R}^n$ es una tupla ordenada de $n$ números reales. Los escribiremos entre paréntesis. En este curso se usarán horizontalmente. Cuando los usamos verticalmente los denotamos transpuestos.\n",
        "\n",
        "$$ \\begin{pmatrix}x_1 & x_2  & \\cdots & x_ñ \\end{pmatrix}=\\begin{pmatrix}x_1\\\\x_2\\\\ \\vdots \\\\x_ñ \\end{pmatrix}^\\top$$\n",
        "\n"
      ],
      "metadata": {
        "id": "u9fgWj3WYaRq"
      }
    },
    {
      "cell_type": "markdown",
      "metadata": {
        "id": "IBL3OFAUT3_y"
      },
      "source": [
        "# Sistema de ecuaciones lineales\n",
        "  \n",
        "$\\matrix{\n",
        "a_{11} x_1 + a_{12} x_2 + \\ldots + a_{1n} x_n &= b_1 \\\\\n",
        "a_{21} x_1 + a_{22} x_2 + \\ldots + a_{2n} x_n &= b_2 \\\\\n",
        "&\\vdots\\\\\n",
        "a_{m1} x_1 + a_{m2} x_2 + \\ldots + a_{mn} x_n &= b_m \\\\\n",
        "}$\n",
        "\n",
        "* hay $m$ ecuaciones\n",
        "* hay $n$ variables\n",
        "* los $a_{ij}$ se conocen **coeficiente**\n",
        "* los $x_i$ se conocen como **variables**\n",
        "* los $b_i$ se conocen como **términos constantes** (TC)\n",
        "\n",
        "\n",
        "\n",
        "\n",
        "# Variables delanteras\n",
        "Si en todas las ecuaciones, las variables tienen el mismo orden, de izquierda a derecha, es posible definir la **variable delantera** de cada ecuación como la variable más a la izquierda con coeficiente diferente de cero.  \n",
        "\n",
        "Por ejemplo, en el siguiente sistema de ecuaciones\n",
        "\n",
        "$\\matrix{\n",
        " &&&-&2x_3&&&+&2x_5&&&=&2\\\\\n",
        " x_1&+&x_2&+&x_3&-&x_4&+&2x_5&-&x_6&=&1\\\\\n",
        " &&&&&&&-&x_5&+&x_6&=&3\\\\\n",
        " }$\n",
        "\n",
        "Las variables delanteras son:\n",
        "* para la primera ecuación es $x_3$.\n",
        "* para la segunda ecuación es $x_1$.\n",
        "* para la tercera ecuación es $x_5$.\n",
        "\n",
        "\n",
        "\n",
        "\n",
        "\n",
        "\n",
        "#  Sistema escalón\n",
        "En un **sistema escalón** la variable delantera está a la derecha de la variable delantera de la ecuación superior. En estos sistemas de ecuaciones las variables que no son delanteras en ninguna ecuación se llaman **variables libres**.\n",
        "\n",
        "El siguiente sistema presentado en [Nakos, pg 6, ejem 8]\n",
        "\n",
        " $\\matrix{\n",
        " x_1&+&x_2&+&x_3&-&x_4&+&2x_5&-&x_6&=&1\\\\\n",
        " &&&-&2x_3&&&+&2x_5&&&=&2\\\\\n",
        " &&&&&&&-&x_5&+&x_6&=&3\\\\\n",
        " }$\n",
        "\n",
        "está en forma escalón,\n",
        "sus variables delanteras son $x_1, x_3, x_5$ y sus variables libres son $x_2, x_4, x_6$.\n",
        "\n",
        "Estos sistemas son fáciles de resolver. <!--utilizando **sustitución hacia atrás**.-->\n",
        "\n",
        "\n",
        "  \n",
        "\n"
      ]
    },
    {
      "cell_type": "markdown",
      "metadata": {
        "id": "PqADLZssT3_z"
      },
      "source": [
        "# Sustitución hacia atrás [Nakos, pg 6, ejem 8]\n",
        "## Algoritmo\n",
        "* En un sistema escalón:\n",
        "  * Se remplazan las variables libres por parámetros en todas las ecuaciones.\n",
        "  * Para cada renglón del sistema de ecuaciones, empezando desde la última ecuación hacia la primera ecuación:\n",
        "    * Se despeja la variable delantera y se remplaza en las demás ecuaciones.\n",
        "    * Se retorna el conjunto de variables despejadas, llamado **solución general**.\n",
        "\n",
        "## Ejemplo 1\n",
        "* En un sistema escalón:\n",
        "\n",
        "$\\matrix{\n",
        " x_1&-&x_2&+&x_3&-&x_4&+&2x_5&-&x_6&=&1\\\\\n",
        " &&&&-2x_3&&&+&2x_5&&&=&2\\\\\n",
        " &&&&&&&&-x_5&+&x_6&=&3\\\\\n",
        " }$\n",
        "\n",
        "  * Se remplazan las variables libres por parámetros.\n",
        "     * $x_2=t_1$\n",
        "     * $x_4=t_2$\n",
        "     * $x_6=t_3$\n",
        "\n",
        "  * Para la tercera ecuación, se despeja la variable delantera\n",
        "    \n",
        "$-x_5+t_3=3 \\ \\ \\$\n",
        "\n",
        "$ \\Rightarrow \\ \\ \\ -x_5=3-t_3 \\ \\ \\ $\n",
        "\n",
        "$\\Rightarrow \\ \\ \\ x_5=-3+t_3$\n",
        "\n",
        "  * Para la segunda ecuación se despeja la variable delantera\n",
        "    \n",
        "$-2x_3+2(-3+t_3)=2\\ \\ \\ \\ $\n",
        "\n",
        "$ \\Rightarrow \\ \\ \\  -2x_3=2-2(-3+t_3) \\ \\ \\ $\n",
        "\n",
        "$ \\Rightarrow \\ \\ \\  -2x_3=2+6-2t_3 $\n",
        "\n",
        "$\\Rightarrow \\ \\ \\  -2x_3=8-2t_3 $\n",
        "\n",
        "$\\Rightarrow \\ \\ \\  x_3=-4+t_3$\n",
        "\n",
        "  * Para la primera ecuación, se despeja la variable delantera\n",
        "    \n",
        "$x_1-t_1+(-4+t_3)-t_2+2(-3+t_3)-t_3=1 \\ \\ \\ $\n",
        "\n",
        "$ \\Rightarrow \\ \\ \\  x_1=1+t_1-(-4+t_3)+t_2-2(-3+t_3)+t_3$\n",
        "\n",
        "$\\Rightarrow \\ \\ \\  x_1=1+t_1+4-t_3+t_2+6-2t_3+t_3  \\ \\ \\$\n",
        "\n",
        "$  \\Rightarrow \\ \\ \\  x_1=11+t_1+t_2-2t_3$\n",
        "\n",
        "  * Solución general\n",
        "     * $x_1=11+t_1+t_2-2t_3$\n",
        "     * $x_2=t_1 $\n",
        "     * $ x_3=-4+t_3$\n",
        "     * $x_4=t_2$\n",
        "     * $x_5=-3+t_3$\n",
        "     * $x_6=t_3$\n",
        "\n",
        "  *  Solución general ordenando las variables\n",
        "\n",
        "$\\quad \\matrix{\n",
        "    x_1=&11&+t_1&+t_2&-2t_3\\\\\n",
        "    x_2=&&+t_1&& \\\\\n",
        "    x_3=&-4&&&+t_3 \\\\\n",
        "    x_4=&&&+t_2&\\\\\n",
        "    x_5=&-3&&&+t_3\\\\\n",
        "    x_6=&&&&+t_3\\\\\n",
        " }$\n"
      ]
    },
    {
      "cell_type": "markdown",
      "metadata": {
        "id": "6sAzlfDKT3_z"
      },
      "source": [
        "# Notaciones vectoriales de la solución\n",
        "## Solución general\n",
        "\n",
        "En la **solución general**, el vector de variables se escribe como una suma de vectores, donde cada parámetro multiplica el respectivo vector de sus coeficientes.\n",
        "\n",
        "Para el anterior ejercicio la solución general es:\n",
        "\n",
        "$$\n",
        "\\begin{pmatrix}x_1\\\\x_2\\\\x_3\\\\x_4\\\\x_5\\\\x_6\\end{pmatrix}^\\top\n",
        "= \\begin{pmatrix}11\\\\0\\\\-4\\\\0\\\\-3\\\\0\\end{pmatrix}^\\top\n",
        "+ t_1\\begin{pmatrix}1\\\\1\\\\0\\\\0\\\\0\\\\0\\end{pmatrix}^\\top\n",
        "+ t_2\\begin{pmatrix}1\\\\0\\\\0\\\\1\\\\0\\\\0\\end{pmatrix}^\\top\n",
        "+ t_3\\begin{pmatrix}-2\\\\0\\\\1\\\\0\\\\1\\\\1\\end{pmatrix}^\\top\n",
        "$$\n",
        "\n",
        "\n",
        "Observe que la solución general no es una combinación lineal de vectores, ya que el primer vector no está multiplicado por ningún parámetro. Esto se solucionaría si los términos constantes (TC) fueran cero.\n",
        "\n",
        "## Soluciones particulares\n",
        "\n",
        "Una **solución particular** del sistema de ecuaciones es un número real por cada variable, tal que satisface todas las ecuaciones. A partir de la solución general se puede obtener una solución particular cada vez que se remplazan los parámetros por cualquier número real. En particular si todos los parámetros son cero se obtiene la **solución particular trivial**. En el ejemplo anterior se obtiene lo siguiente\n",
        "\n",
        "\n",
        "$$\n",
        "\\begin{pmatrix}x_1\\\\x_2\\\\x_3\\\\x_4\\\\x_5\\\\x_6\\end{pmatrix}^\\top\n",
        "= \\begin{pmatrix}11\\\\0\\\\-4\\\\0\\\\-3\\\\0\\end{pmatrix}^\\top\n",
        "+ 0\\begin{pmatrix}1\\\\1\\\\0\\\\0\\\\0\\\\0\\end{pmatrix}^\\top\n",
        "+ 0\\begin{pmatrix}1\\\\0\\\\0\\\\1\\\\0\\\\0\\end{pmatrix}^\\top\n",
        "+ 0\\begin{pmatrix}-2\\\\0\\\\1\\\\0\\\\1\\\\1\\end{pmatrix}^\\top\n",
        "= \\begin{pmatrix}11\\\\0\\\\-4\\\\0\\\\-3\\\\0\\end{pmatrix}^\\top $$\n",
        "\n",
        "Otras soluciones particulares interesantes se obtienen cuando un sólo parámetro vale 1 mientras los otros valen cero, a las cuales yo llamaré **soluciones particulares básicas**.\n",
        "\n",
        "$$\n",
        "\\begin{pmatrix}x_1\\\\x_2\\\\x_3\\\\x_4\\\\x_5\\\\x_6\\end{pmatrix}^\\top\n",
        "= \\begin{pmatrix}11\\\\0\\\\-4\\\\0\\\\-3\\\\0\\end{pmatrix}^\\top\n",
        "+ 1\\begin{pmatrix}1\\\\1\\\\0\\\\0\\\\0\\\\0\\end{pmatrix}^\\top\n",
        "+ 0\\begin{pmatrix}1\\\\0\\\\0\\\\1\\\\0\\\\0\\end{pmatrix}^\\top\n",
        "+ 0\\begin{pmatrix}-2\\\\0\\\\1\\\\0\\\\1\\\\1\\end{pmatrix}^\\top\n",
        "= \\begin{pmatrix}12\\\\1\\\\-4\\\\0\\\\-3\\\\0\\end{pmatrix}^\\top $$\n",
        "\n",
        "$$\n",
        "\\begin{pmatrix}x_1\\\\x_2\\\\x_3\\\\x_4\\\\x_5\\\\x_6\\end{pmatrix}^\\top\n",
        "= \\begin{pmatrix}11\\\\0\\\\-4\\\\0\\\\-3\\\\0\\end{pmatrix}^\\top\n",
        "+ 0\\begin{pmatrix}1\\\\1\\\\0\\\\0\\\\0\\\\0\\end{pmatrix}^\\top\n",
        "+ 1\\begin{pmatrix}1\\\\0\\\\0\\\\1\\\\0\\\\0\\end{pmatrix}^\\top\n",
        "+ 0\\begin{pmatrix}-2\\\\0\\\\1\\\\0\\\\1\\\\1\\end{pmatrix}^\\top\n",
        "= \\begin{pmatrix}12\\\\0\\\\-4\\\\1\\\\-3\\\\0\\end{pmatrix}^\\top $$\n",
        "\n",
        "$$\n",
        "\\begin{pmatrix}x_1\\\\x_2\\\\x_3\\\\x_4\\\\x_5\\\\x_6\\end{pmatrix}^\\top\n",
        "= \\begin{pmatrix}11\\\\0\\\\-4\\\\0\\\\-3\\\\0\\end{pmatrix}^\\top\n",
        "+ 0\\begin{pmatrix}1\\\\1\\\\0\\\\0\\\\0\\\\0\\end{pmatrix}^\\top\n",
        "+ 0\\begin{pmatrix}1\\\\0\\\\0\\\\1\\\\0\\\\0\\end{pmatrix}^\\top\n",
        "+ 1\\begin{pmatrix}-2\\\\0\\\\1\\\\0\\\\1\\\\1\\end{pmatrix}^\\top\n",
        "= \\begin{pmatrix}9\\\\0\\\\-3\\\\0\\\\-2\\\\1\\end{pmatrix}^\\top $$\n",
        "\n",
        "\n",
        "## Conjunto solución\n",
        "El **conjunto solución** es el conjunto de todas las posibles soluciones particulares, se puede escribir especificando los posibles valores de los parámetros de la solución general.\n",
        "\n",
        "$$\n",
        "\\left\\{\n",
        "\\begin{pmatrix}11\\\\0\\\\-4\\\\0\\\\-3\\\\0\\end{pmatrix}^\\top\n",
        "+ t_1\\begin{pmatrix}1\\\\1\\\\0\\\\0\\\\0\\\\0\\end{pmatrix}^\\top\n",
        "+ t_2\\begin{pmatrix}1\\\\0\\\\0\\\\1\\\\0\\\\0\\end{pmatrix}^\\top\n",
        "+ t_3\\begin{pmatrix}-2\\\\0\\\\1\\\\0\\\\1\\\\1\\end{pmatrix}^\\top\n",
        "\\mid t_1,t_2,t_3 \\in \\mathbb{R}\n",
        "\\right\\}\n",
        "$$\n",
        "\n",
        "Es de resaltar que cada tripla de parámetros diferentes genera soluciones particulares diferentes y como los parámetros son números reales entonces este sistema escalón tiene **infinitas soluciones**."
      ]
    },
    {
      "cell_type": "markdown",
      "metadata": {
        "id": "EhhNXES0T3_z"
      },
      "source": [
        "## Comprobación\n",
        "Para la comprobar que la solución general es correcta, es suficiente probar con las soluciones particulares antes descritas. Para nuestro ejemplo, se van a reemplazar las 6 variables para comprobar las 3 ecuaciones con cada una de las 4 soluciones particulares obtenidas. Esto se realizará en Python.  \n",
        "\n",
        "En Python el símbolo `==` devuelve `True` si son iguales y `False` si no.\n",
        "\n",
        "Primera solución particular.\n",
        "\n",
        "\n",
        "$\n",
        "\\begin{pmatrix}x_1\\\\x_2\\\\x_3\\\\x_4\\\\x_5\\\\x_6\\end{pmatrix}^\\top\n",
        "= \\begin{pmatrix}11\\\\0\\\\-4\\\\0\\\\-3\\\\0\\end{pmatrix}^\\top $\n",
        "\n",
        "\n"
      ]
    },
    {
      "cell_type": "code",
      "execution_count": 9,
      "metadata": {
        "id": "t0mT9HyuT3_0",
        "outputId": "73ace25e-2208-468f-9a9a-c236618770a1",
        "colab": {
          "base_uri": "https://localhost:8080/",
          "height": 0
        }
      },
      "outputs": [
        {
          "output_type": "execute_result",
          "data": {
            "text/plain": [
              "(11, 0, -4, 0, -3, 0)"
            ]
          },
          "metadata": {},
          "execution_count": 9
        }
      ],
      "source": [
        "(x_1, x_2, x_3, x_4, x_5, x_6)=(11, 0, -4, 0, -3, 0,)\n",
        "(x_1, x_2, x_3, x_4, x_5, x_6)"
      ]
    },
    {
      "cell_type": "code",
      "execution_count": 10,
      "metadata": {
        "id": "r9fFYaxAT3_0",
        "outputId": "bda64ccd-5d5a-45fd-f799-98d664f8c715",
        "colab": {
          "base_uri": "https://localhost:8080/",
          "height": 0
        }
      },
      "outputs": [
        {
          "output_type": "execute_result",
          "data": {
            "text/plain": [
              "True"
            ]
          },
          "metadata": {},
          "execution_count": 10
        }
      ],
      "source": [
        "x_1 - x_2 +  x_3 - x_4 + 2*x_5 - x_6 == 1"
      ]
    },
    {
      "cell_type": "code",
      "execution_count": 11,
      "metadata": {
        "id": "nGzmJspHT3_1",
        "outputId": "07c5e252-d3e9-4246-b03a-9ffc1a4cd876",
        "colab": {
          "base_uri": "https://localhost:8080/",
          "height": 0
        }
      },
      "outputs": [
        {
          "output_type": "execute_result",
          "data": {
            "text/plain": [
              "True"
            ]
          },
          "metadata": {},
          "execution_count": 11
        }
      ],
      "source": [
        "-2*x_3 + 2*x_5 == 2"
      ]
    },
    {
      "cell_type": "code",
      "execution_count": 12,
      "metadata": {
        "id": "6udJ0nlFT3_1",
        "outputId": "bc3446aa-b640-4ab0-f4c3-8e91e510e226",
        "colab": {
          "base_uri": "https://localhost:8080/",
          "height": 0
        }
      },
      "outputs": [
        {
          "output_type": "execute_result",
          "data": {
            "text/plain": [
              "True"
            ]
          },
          "metadata": {},
          "execution_count": 12
        }
      ],
      "source": [
        "-x_5 + x_6 == 3"
      ]
    },
    {
      "cell_type": "markdown",
      "metadata": {
        "id": "O-tIA453T3_1"
      },
      "source": [
        "Como vemos la primera solución particular cumple con las tres ecuaciones.\n",
        "\n",
        "Ahora vemos si la segunda solución particular también cumple.\n",
        "\n",
        "$\n",
        "\\begin{pmatrix}x_1\\\\x_2\\\\x_3\\\\x_4\\\\x_5\\\\x_6\\end{pmatrix}^\\top\n",
        "= \\begin{pmatrix}12\\\\1\\\\-4\\\\0\\\\-3\\\\0\\end{pmatrix}^\\top $\n"
      ]
    },
    {
      "cell_type": "code",
      "execution_count": 13,
      "metadata": {
        "id": "LYWfsUw5T3_1",
        "outputId": "ba750df2-4432-4a7b-ce37-b151de2fc891",
        "colab": {
          "base_uri": "https://localhost:8080/",
          "height": 0
        }
      },
      "outputs": [
        {
          "output_type": "execute_result",
          "data": {
            "text/plain": [
              "(12, 1, -4, 0, -3, 0)"
            ]
          },
          "metadata": {},
          "execution_count": 13
        }
      ],
      "source": [
        "(x_1, x_2, x_3, x_4, x_5, x_6)=(12, 1, -4, 0, -3, 0,)\n",
        "(x_1, x_2, x_3, x_4, x_5, x_6)"
      ]
    },
    {
      "cell_type": "code",
      "execution_count": 14,
      "metadata": {
        "id": "Dm3h1lC5T3_1",
        "outputId": "26ef6e5d-d86b-4fda-9a58-a327c7c9443b",
        "colab": {
          "base_uri": "https://localhost:8080/",
          "height": 0
        }
      },
      "outputs": [
        {
          "output_type": "execute_result",
          "data": {
            "text/plain": [
              "True"
            ]
          },
          "metadata": {},
          "execution_count": 14
        }
      ],
      "source": [
        "x_1 - x_2 +  x_3 - x_4 + 2*x_5 - x_6 == 1"
      ]
    },
    {
      "cell_type": "code",
      "execution_count": 15,
      "metadata": {
        "id": "eCV6GbXOT3_2",
        "outputId": "5fb0d813-f223-460e-bb77-b8d0de3c6d95",
        "colab": {
          "base_uri": "https://localhost:8080/",
          "height": 0
        }
      },
      "outputs": [
        {
          "output_type": "execute_result",
          "data": {
            "text/plain": [
              "True"
            ]
          },
          "metadata": {},
          "execution_count": 15
        }
      ],
      "source": [
        "-2*x_3 + 2*x_5 == 2"
      ]
    },
    {
      "cell_type": "code",
      "execution_count": 16,
      "metadata": {
        "id": "8Zw9qAkNT3_2",
        "outputId": "56d655b1-3895-44c6-9fbf-93e742e8b98e",
        "colab": {
          "base_uri": "https://localhost:8080/",
          "height": 0
        }
      },
      "outputs": [
        {
          "output_type": "execute_result",
          "data": {
            "text/plain": [
              "True"
            ]
          },
          "metadata": {},
          "execution_count": 16
        }
      ],
      "source": [
        "-x_5 + x_6 == 3"
      ]
    },
    {
      "cell_type": "markdown",
      "metadata": {
        "id": "rSfb_Q1IT3_2"
      },
      "source": [
        "Esta también cumplió, ahora seguimos con la tercera solución particular\n",
        "\n",
        "$\n",
        "\\begin{pmatrix}x_1\\\\x_2\\\\x_3\\\\x_4\\\\x_5\\\\x_6\\end{pmatrix}^\\top\n",
        "= \\begin{pmatrix}12\\\\0\\\\-4\\\\1\\\\-3\\\\0\\end{pmatrix}^\\top $\n",
        "\n"
      ]
    },
    {
      "cell_type": "code",
      "execution_count": 17,
      "metadata": {
        "id": "kG86AwelT3_2",
        "outputId": "f38e98bb-c067-486e-ca21-dce132974964",
        "colab": {
          "base_uri": "https://localhost:8080/",
          "height": 0
        }
      },
      "outputs": [
        {
          "output_type": "execute_result",
          "data": {
            "text/plain": [
              "(12, 0, -4, 1, -3, 0)"
            ]
          },
          "metadata": {},
          "execution_count": 17
        }
      ],
      "source": [
        "(x_1, x_2, x_3, x_4, x_5, x_6)=(12, 0, -4, 1, -3, 0,)\n",
        "(x_1, x_2, x_3, x_4, x_5, x_6)"
      ]
    },
    {
      "cell_type": "code",
      "execution_count": 18,
      "metadata": {
        "id": "V8mIgjViT3_2",
        "outputId": "f57ceca7-6a7b-4322-bacf-3c656c7d8c2e",
        "colab": {
          "base_uri": "https://localhost:8080/",
          "height": 0
        }
      },
      "outputs": [
        {
          "output_type": "execute_result",
          "data": {
            "text/plain": [
              "True"
            ]
          },
          "metadata": {},
          "execution_count": 18
        }
      ],
      "source": [
        "x_1 - x_2 +  x_3 - x_4 + 2*x_5 - x_6 == 1"
      ]
    },
    {
      "cell_type": "code",
      "execution_count": 19,
      "metadata": {
        "id": "zlRR3oZzT3_2",
        "outputId": "a9a04e17-4e0b-43a9-96a1-42dedf8f2dd0",
        "colab": {
          "base_uri": "https://localhost:8080/",
          "height": 0
        }
      },
      "outputs": [
        {
          "output_type": "execute_result",
          "data": {
            "text/plain": [
              "True"
            ]
          },
          "metadata": {},
          "execution_count": 19
        }
      ],
      "source": [
        "-2*x_3 + 2*x_5 == 2"
      ]
    },
    {
      "cell_type": "code",
      "execution_count": 20,
      "metadata": {
        "id": "7pxYv6naT3_2",
        "outputId": "cb76b2c0-c4de-492a-d865-61ff710af7ff",
        "colab": {
          "base_uri": "https://localhost:8080/",
          "height": 0
        }
      },
      "outputs": [
        {
          "output_type": "execute_result",
          "data": {
            "text/plain": [
              "True"
            ]
          },
          "metadata": {},
          "execution_count": 20
        }
      ],
      "source": [
        "-x_5 + x_6 == 3"
      ]
    },
    {
      "cell_type": "markdown",
      "metadata": {
        "id": "EVzfk3vbT3_2"
      },
      "source": [
        "Ya sólo falta probar la última solución particular con las tres ecuaciones.\n",
        "\n",
        "$\n",
        "\\begin{pmatrix}x_1\\\\x_2\\\\x_3\\\\x_4\\\\x_5\\\\x_6\\end{pmatrix}^\\top\n",
        "= \\begin{pmatrix}9\\\\0\\\\-3\\\\0\\\\-2\\\\1\\end{pmatrix}^\\top $"
      ]
    },
    {
      "cell_type": "code",
      "execution_count": 21,
      "metadata": {
        "id": "0NXH2bxUT3_3",
        "outputId": "86565d97-ac72-40dd-9b38-c42a037845f0",
        "colab": {
          "base_uri": "https://localhost:8080/",
          "height": 0
        }
      },
      "outputs": [
        {
          "output_type": "execute_result",
          "data": {
            "text/plain": [
              "(9, 0, -3, 0, -2, 1)"
            ]
          },
          "metadata": {},
          "execution_count": 21
        }
      ],
      "source": [
        "(x_1, x_2, x_3, x_4, x_5, x_6)=(9, 0, -3, 0, -2, 1,)\n",
        "(x_1, x_2, x_3, x_4, x_5, x_6)"
      ]
    },
    {
      "cell_type": "code",
      "execution_count": 22,
      "metadata": {
        "id": "r62-Ypt7T3_3",
        "outputId": "06971c8b-473e-4a32-e3dd-e77a22f575d7",
        "colab": {
          "base_uri": "https://localhost:8080/",
          "height": 0
        }
      },
      "outputs": [
        {
          "output_type": "execute_result",
          "data": {
            "text/plain": [
              "True"
            ]
          },
          "metadata": {},
          "execution_count": 22
        }
      ],
      "source": [
        "x_1 - x_2 +  x_3 - x_4 + 2*x_5 - x_6 == 1"
      ]
    },
    {
      "cell_type": "code",
      "execution_count": 23,
      "metadata": {
        "id": "-CkYu5XCT3_3",
        "outputId": "b85d0eba-aa43-420b-97be-6b6e3c305c48",
        "colab": {
          "base_uri": "https://localhost:8080/",
          "height": 0
        }
      },
      "outputs": [
        {
          "output_type": "execute_result",
          "data": {
            "text/plain": [
              "True"
            ]
          },
          "metadata": {},
          "execution_count": 23
        }
      ],
      "source": [
        "-2*x_3 + 2*x_5 == 2"
      ]
    },
    {
      "cell_type": "code",
      "execution_count": 24,
      "metadata": {
        "id": "ZXFopAnST3_3",
        "outputId": "227f0ebe-2ced-4923-d58f-89cb03e408b3",
        "colab": {
          "base_uri": "https://localhost:8080/",
          "height": 0
        }
      },
      "outputs": [
        {
          "output_type": "execute_result",
          "data": {
            "text/plain": [
              "True"
            ]
          },
          "metadata": {},
          "execution_count": 24
        }
      ],
      "source": [
        "-x_5 + x_6 == 3"
      ]
    },
    {
      "cell_type": "markdown",
      "source": [
        "La anterior prueba permite concluir que la solución general es correcta. Más adelante en el curso estudiaremos porque con probar sólo 4 casos podemos concluir para las infinitas soluciones que genera la solución general."
      ],
      "metadata": {
        "id": "KHNQZl8qzQX0"
      }
    },
    {
      "cell_type": "markdown",
      "source": [
        "# Sistema homogéneo (SH)\n",
        "En un **sistema homogéneo** los TC son ceros\n",
        "\n",
        "$\\matrix{\n",
        "a_{11} x_1 + a_{12} x_2 + \\ldots + a_{1n} x_n &= 0 \\\\\n",
        "a_{21} x_1 + a_{22} x_2 + \\ldots + a_{2n} x_n &= 0 \\\\\n",
        "&\\vdots\\\\\n",
        "a_{m1} x_1 + a_{m2} x_2 + \\ldots + a_{mn} x_n &= 0 \\\\\n",
        "}$\n",
        "\n",
        "El  **sistema homogéneo asociado** a un sistema de ecuaciones tiene las mismas variables y los mismos coeficientes.\n",
        "\n",
        "Por ejemplo el sistema de ecuaciones\n",
        "\n",
        "$\\matrix{\n",
        " &&&-&2x_3&&&+&2x_5&&&=&2\\\\\n",
        " x_1&+&x_2&+&x_3&-&x_4&+&2x_5&-&x_6&=&1\\\\\n",
        " &&&&&&&-&x_5&+&x_6&=&3\\\\\n",
        " }$\n",
        "\n",
        "Tiene el siguiente sistema homogéneo asociado\n",
        "\n",
        "$\\matrix{\n",
        " &&&-&2x_3&&&+&2x_5&&&=&0\\\\\n",
        " x_1&+&x_2&+&x_3&-&x_4&+&2x_5&-&x_6&=&0\\\\\n",
        " &&&&&&&-&x_5&+&x_6&=&0\\\\\n",
        " }$\n",
        "\n",
        "\n",
        " Ejercicio. Compruebe que la solución general del sistema homogéneo asociado tiene las mismas soluciones particulares básica pero la solución particular trivial es el vector cero (es decir que la solución general es la combinación lineal de las soluciones particulares básicas). ¿Cómo puede demostrar esta afirmación?"
      ],
      "metadata": {
        "id": "aDcgl9F2zT5Z"
      }
    },
    {
      "cell_type": "markdown",
      "metadata": {
        "id": "0J5KSCD_T3_3"
      },
      "source": [
        "\n",
        "\n",
        "\n",
        "## Respuesta del ejemplo\n",
        "Con el fin de calificar este taller, se solicitará colocar la solución particular trivial y las básicas en una tupla de la siguiente forma"
      ]
    },
    {
      "cell_type": "code",
      "execution_count": 25,
      "metadata": {
        "id": "2CAUhAcJT3_3"
      },
      "outputs": [],
      "source": [
        "respuesta_ejemplo_1=[\n",
        "    (11, 0, -4, 0, -3, 0,),\n",
        "    (12, 1, -4, 0, -3, 0,),\n",
        "    (12, 0, -4, 1, -3, 0,),\n",
        "    (9, 0, -3, 0, -2, 1,),\n",
        "]"
      ]
    },
    {
      "cell_type": "markdown",
      "metadata": {
        "id": "Xu7R5nH-T3_3"
      },
      "source": [
        "Realice el ejercicio 3 que está al final del taller"
      ]
    },
    {
      "cell_type": "markdown",
      "metadata": {
        "id": "UwNjzgMCT3_3"
      },
      "source": [
        "\n",
        "\n",
        "# Sistemas escalón Consistentes e Inconsistentes\n",
        "\n",
        "Un sistema de ecuaciones **inconsistente** si no tiene ninguna solución. Es decir, si el conjunto solución es vació.\n",
        "\n",
        "## Teorema\n",
        "\n",
        "<u>Un sistema de ecuaciones escalón es inconsistente **si y solo si** alguna de las ecuaciones es de la forma $0x_1 + 0x_2 + \\cdots + 0x_n = b$ con $b \\neq 0$.</u>\n",
        "\n",
        "### Explicación\n",
        "Para demostrar una afirmación **A si y sólo si B** hay que hacer dos demostraciones: **Si A entonces B** y **Si B entonces A**. Algunas veces hay una que es muy sencilla de demostrar.\n",
        "\n",
        "En este caso es más sencillo demostrar que:  <u> **Si** alguna de las ecuaciones es de la forma $0x_1 + 0x_2 + \\cdots + 0x_n = b$ con $b \\neq 0$ **entonces** el sistema de ecuaciones escalón es inconsistente</u>\n",
        "\n",
        "* ya que la ecuación $0x_1 + 0x_2 + \\cdots + 0x_n = b$ con $b \\neq 0$ no tiene solución,\n",
        "\n",
        "* lo cual precisamente corresponde a la definición de inconsistente.\n",
        "\n",
        "Para demostrar la otra afirmación vamos a usar el contra reciproco, es decir que en vez de probar que **Si A entonces B** vamos a probar **Si no B entonces no A**. De pronto el siguiente ejemplo permite entender mejor el contrarrecíproco."
      ]
    },
    {
      "cell_type": "code",
      "execution_count": 26,
      "metadata": {
        "id": "KaUwNz4uT3_3",
        "outputId": "499d0f9d-d449-436a-a4a5-561b91543b0c",
        "colab": {
          "base_uri": "https://localhost:8080/",
          "height": 406
        }
      },
      "outputs": [
        {
          "output_type": "display_data",
          "data": {
            "text/plain": [
              "<Figure size 640x480 with 1 Axes>"
            ],
            "image/png": "[encoded data removed]"
          },
          "metadata": {}
        }
      ],
      "source": [
        "# Omitir este código\n",
        "# Este código dibuja el diagrama de Venn de dos conjuntos anidados\n",
        "import matplotlib.pyplot as plt\n",
        "fig, ax = plt.subplots()\n",
        "ax.add_artist( plt.Circle((0.5, 0.5), 0.4, fill=False, color='k'))\n",
        "ax.add_artist(plt.Circle((0.5, 0.5), 0.2, fill=False, color='k'))\n",
        "ax.text(0.8, 0.5, r'$C$',{'fontsize': 18})\n",
        "ax.text(0.6, 0.5, r'$D$',{'fontsize': 18})\n",
        "ax.text(0.51, 0.5, r'$x$',{'fontsize': 18})\n",
        "ax.text(0.96, 0.5, r\"$x'$\",{'fontsize': 18})\n",
        "ax.axis('off')\n",
        "plt.show()"
      ]
    },
    {
      "cell_type": "markdown",
      "metadata": {
        "id": "3WLP9lB5T3_3"
      },
      "source": [
        "Para la afirmación\n",
        "\n",
        "Si $x \\in D$ entonces $x \\in C$\n",
        "\n",
        "su contrarrecíproco es   \n",
        "\n",
        "Si $x' \\notin C$ entonces $x' \\notin D$\n",
        "\n",
        "En nuestro caso el contrarrecíproco queda así. <u> **Si** ninguna de las ecuaciones es de la forma $0x_1 + 0x_2 + \\cdots + 0x_n = b$ con $b \\neq 0$ **entonces** el sistema de ecuaciones escalón es consistente.</u>\n",
        "\n",
        "* **Si** ninguna de las ecuaciones es de la forma $0x_1 + 0x_2 + \\cdots + 0x_n = b$ con $b \\neq 0$.\n",
        "* Se puede aplicar la sustitución hacia atrás y llegar a la solución general.\n",
        "* Con la solución general se obtiene al menos una solución particular.\n",
        "* Si el conjunto solución no es vacío entonces el sistema escalón es consistente.\n",
        "\n",
        "Este teorema es un caso particular del que se presenta en [Nakos, Teorema 1.2, pg 23]"
      ]
    },
    {
      "cell_type": "markdown",
      "metadata": {
        "id": "vO1hkYaFT3_4"
      },
      "source": [
        "## Ejemplo 2\n",
        "\n",
        "$\\matrix{\n",
        " x_1&-&x_2&+&x_3&-&x_4&+&2x_5&-&x_6&=&1\\\\\n",
        " &&&-&2x_3&&&+&2x_5&&&=&2\\\\\n",
        " &&&&&&&-&x_5&+&x_6&=&3\\\\\n",
        " 0x_1&+&0x_2&+&0x_3&+&0x_4&+&0x_5 &+&0x_6&=&4\\\\\n",
        " }$\n"
      ]
    },
    {
      "cell_type": "code",
      "execution_count": 32,
      "metadata": {
        "id": "jrGtJFJeT3_4"
      },
      "outputs": [],
      "source": [
        "respuesta_ejemplo_2=[] # Como el sistema es inconsistente la tupla está vacía"
      ]
    },
    {
      "cell_type": "markdown",
      "metadata": {
        "id": "4z5XTTMfT3_4"
      },
      "source": [
        "# Solución única e infinitas soluciones\n",
        "\n",
        "## Ejemplo 3\n",
        "Comenzaremos esta sección con encontrar la solución general del siguiente sistema escalón.\n",
        "\n",
        "$\\matrix{\n",
        " 2x&-&2y&=&-2\\\\\n",
        " &&y&=&2\\\\\n",
        "}$\n",
        "\n",
        "Como no tiene variables libres, entonces no tiene parámetros. Entonces procedemos a despejar cada una de las ecuaciones. La última ecuación ya está despejada.\n",
        "\n",
        "$y=2$\n",
        "\n",
        "La primera ecuación queda de la siguiente forma.\n",
        "\n",
        "$2x - 2(2) = -2  \\ \\ \\ \\Rightarrow \\ \\ \\ 2x = -2 + 2(2) \\ \\ \\ \\Rightarrow \\ \\ \\ 2x = 2 \\ \\ \\ \\Rightarrow \\ \\ \\ x = 1$\n",
        "\n",
        "Por la tanto la solución general es\n",
        "$\n",
        "\\begin{pmatrix}x\\\\y\\end{pmatrix}^\\top\n",
        "= \\begin{pmatrix}1\\\\2\\end{pmatrix}^\\top\n",
        "$.\n",
        "Que es igual a la solución particular. El conjunto solución es $\n",
        "\\left\\{ \\begin{pmatrix}1\\\\2\\end{pmatrix}^\\top\\right\\}\n",
        "$.\n",
        "\n",
        "## Respuesta del ejemplo\n"
      ]
    },
    {
      "cell_type": "code",
      "execution_count": 28,
      "metadata": {
        "id": "tGctqE2VT3_4"
      },
      "outputs": [],
      "source": [
        "respuesta_ejemplo_3=[\n",
        "(1,2)\n",
        "]"
      ]
    },
    {
      "cell_type": "markdown",
      "metadata": {
        "id": "oBnnyDNMT3_4"
      },
      "source": [
        "\n",
        "\n",
        "De este ejercicio podemos ver que cuando no hay variables libres, no hay parámetros, no hay infinitas soluciones. Es decir, que estos sistemas tienen **solución única**.\n",
        "\n",
        "Lo anterior se puede resumir en el siguiente esquema.\n",
        "\n",
        "$\\text{Sistema escalón } \\left\\{\\matrix{\n",
        "\\text{Alguna $0x_1 + 0x_2 + \\cdots + 0x_n = b$ con $b \\neq 0$} & \\text{Inconsistente} \\ \\ \\ \\ \\ \\ \\ \\ \\ \\ \\ \\ \\ \\ \\ \\ \\ \\ \\ \\ \\ \\ \\ \\ \\ \\ \\ \\ \\ \\ \\ \\ \\ \\ \\ \\ \\ \\ \\ \\ \\ \\  \\text{Ninguna solución} \\\\\n",
        "\\text{Ninguna $0x_1 + 0x_2 + \\cdots + 0x_n = b$ con $b \\neq 0$} & \\text{Consistente}\n",
        "\\left\\{\\matrix{\\text{No hay variables libres} &  \\text{Única solución (particular trivial)}\\\\\n",
        "\\text{Sí hay variables libres} &  \\text{Infinitas soluciones}}\\right.\n",
        "}\\right.$\n",
        "\n",
        "<!--$\\text{sistema ecalón } \\matrix{\n",
        "\\text{alguna $0x_1 + 0x_2 + \\cdots + 0x_n = b$ con $b \\neq 0$} & \\text{Inconsistente} & & \\text{Solución vacía} \\\\\n",
        "                                                &       &\\text{No hay variables libres}& \\text{Solución única}\\\\\n",
        "\\text{ninguna $0x_1 + 0x_2 + \\cdots + 0x_n = b$ con $b \\neq 0$} & \\text{Consistente} \\\\\n",
        "                                                &       &\\text{Sí hay variables libres}& \\text{Soluciones infinitas}\\\\\n",
        "}$-->"
      ]
    },
    {
      "cell_type": "markdown",
      "metadata": {
        "id": "LC-7yLQbT3_4"
      },
      "source": [
        "# Ejercicios\n",
        "Sabiendo que $ba$ son los últimos dos digito de su código ($b$ es el penúltimo y $a$ el último), para cada uno de los siguientes sistemas escalón encuentre:\n",
        "* Si es consistente o inconsistente\n",
        "* Para los consistentes:\n",
        "  * Si tiene solución única o infinitas soluciones.\n",
        "  * La solución general\n",
        "  * El conjunto solución\n",
        "  * Las soluciones particulares básicas (si las hay) y la trivial.\n",
        "  \n",
        "## Ejercicio 1\n",
        "$\\matrix{\n",
        " x&-&ay&+&bz=&1\\\\\n",
        " &&y&+&az=&2\\\\\n",
        " &&&&-z=&3\\\\\n",
        "}$"
      ]
    },
    {
      "cell_type": "code",
      "execution_count": 29,
      "metadata": {
        "id": "DxDxH39nT3_4"
      },
      "outputs": [],
      "source": [
        "respuesta_ejercicio_1=[\n",
        "]"
      ]
    },
    {
      "cell_type": "markdown",
      "metadata": {
        "id": "mT0VoIXoT3_4"
      },
      "source": [
        "## Ecuación 2\n",
        "$\\matrix{\n",
        " x&-&ay&+&bz=&1\\\\\n",
        " &&y&+&az=&2\\\\\n",
        " &&&&-z=&3\\\\\n",
        " 0x&+&0y&+&0z=&4\\\\\n",
        "}$"
      ]
    },
    {
      "cell_type": "code",
      "execution_count": 30,
      "metadata": {
        "id": "GC3bYSScT3_5"
      },
      "outputs": [],
      "source": [
        "respuesta_ejercicio_2=[\n",
        "]"
      ]
    },
    {
      "cell_type": "markdown",
      "metadata": {
        "id": "s2-okB-nT3_5"
      },
      "source": [
        "## Ecuación 3\n",
        "$\\matrix{\n",
        " x&-&ay&+&bz=&1\\\\\n",
        " &&&&-z=&3\\\\\n",
        "}$"
      ]
    },
    {
      "cell_type": "code",
      "execution_count": 31,
      "metadata": {
        "id": "BFrjjXqQT3_5"
      },
      "outputs": [],
      "source": [
        "respuesta_ejercicio_3=[\n",
        "]"
      ]
    }
  ],
  "metadata": {
    "kernelspec": {
      "display_name": "Python 3",
      "language": "python",
      "name": "python3"
    },
    "language_info": {
      "codemirror_mode": {
        "name": "ipython",
        "version": 3
      },
      "file_extension": ".py",
      "mimetype": "text/x-python",
      "name": "python",
      "nbconvert_exporter": "python",
      "pygments_lexer": "ipython3",
      "version": "3.7.4"
    },
    "colab": {
      "provenance": [],
      "include_colab_link": true
    }
  },
  "nbformat": 4,
  "nbformat_minor": 0
}