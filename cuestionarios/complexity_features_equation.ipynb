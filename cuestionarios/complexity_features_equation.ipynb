{
  "nbformat": 4,
  "nbformat_minor": 0,
  "metadata": {
    "colab": {
      "provenance": [],
      "authorship_tag": "ABX9TyMcPLN3Ew50Tr1XITTURRyn",
      "include_colab_link": true
    },
    "kernelspec": {
      "name": "python3",
      "display_name": "Python 3"
    },
    "language_info": {
      "name": "python"
    }
  },
  "cells": [
    {
      "cell_type": "markdown",
      "metadata": {
        "id": "view-in-github",
        "colab_type": "text"
      },
      "source": [
        "<a href=\"https://colab.research.google.com/github/GerardoMunoz/AlgLin_2025/blob/main/cuestionarios/complexity_features_equation.ipynb\" target=\"_parent\"><img src=\"https://colab.research.google.com/assets/colab-badge.svg\" alt=\"Open In Colab\"/></a>"
      ]
    },
    {
      "cell_type": "code",
      "source": [
        "import ast"
      ],
      "metadata": {
        "id": "WRpVJx35dOEd"
      },
      "execution_count": 28,
      "outputs": []
    },
    {
      "cell_type": "code",
      "source": [
        "a=ast.parse(\"a = 3*x + 1\", mode=\"exec\")\n",
        "print(ast.dump(a))"
      ],
      "metadata": {
        "colab": {
          "base_uri": "https://localhost:8080/"
        },
        "id": "YMPr81fYdOB3",
        "outputId": "967bb828-7609-4eca-92a1-3a09dbd7920f"
      },
      "execution_count": 29,
      "outputs": [
        {
          "output_type": "stream",
          "name": "stdout",
          "text": [
            "Module(body=[Assign(targets=[Name(id='a', ctx=Store())], value=BinOp(left=BinOp(left=Constant(value=3), op=Mult(), right=Name(id='x', ctx=Load())), op=Add(), right=Constant(value=1)))], type_ignores=[])\n"
          ]
        }
      ]
    },
    {
      "cell_type": "markdown",
      "source": [],
      "metadata": {
        "id": "BjPwRXST88Cn"
      }
    },
    {
      "cell_type": "code",
      "source": [
        "import ast\n",
        "\n",
        "def complexity_features_equation(eq_str, var=\"x\"):\n",
        "    \"\"\"\n",
        "    Calcula métricas de complejidad directamente de un string de ecuación,\n",
        "    sin simplificar como SymPy.\n",
        "    Retorna: (terms, parens, depth, repeat_penalty, dispersion)\n",
        "    \"\"\"\n",
        "    if \"=\" not in eq_str:\n",
        "        raise ValueError(\"Equation must contain '='\")\n",
        "\n",
        "    left_str, right_str = eq_str.split(\"=\")\n",
        "\n",
        "    def analyze(expr_str):\n",
        "        tree = ast.parse(expr_str, mode='eval')\n",
        "\n",
        "        terms = 0\n",
        "        parens = expr_str.count(\"(\") + expr_str.count(\")\")\n",
        "        depth_val = 0\n",
        "        var_count = expr_str.count(var)\n",
        "\n",
        "        def visit(node, current_depth=1):\n",
        "            nonlocal terms, depth_val\n",
        "            depth_val = max(depth_val, current_depth)\n",
        "            if isinstance(node, ast.BinOp):\n",
        "                terms += 1\n",
        "                visit(node.left, current_depth + 1)\n",
        "                visit(node.right, current_depth + 1)\n",
        "            elif isinstance(node, ast.UnaryOp):\n",
        "                visit(node.operand, current_depth + 1)\n",
        "            elif isinstance(node, ast.Call):\n",
        "                terms += 1\n",
        "                for arg in node.args:\n",
        "                    visit(arg, current_depth + 1)\n",
        "            elif isinstance(node, ast.Name) or isinstance(node, ast.Constant):\n",
        "                pass\n",
        "            elif hasattr(node, \"body\"):  # defensive\n",
        "                for sub in node.body:\n",
        "                    visit(sub, current_depth + 1)\n",
        "\n",
        "        visit(tree.body)\n",
        "        return terms, parens, depth_val, var_count\n",
        "\n",
        "    left = analyze(left_str)\n",
        "    right = analyze(right_str)\n",
        "\n",
        "    # combine sides\n",
        "    terms = left[0] + right[0]\n",
        "    parens = left[1] + right[1]\n",
        "    #depth = max(left[2], right[2])\n",
        "    var_total = left[3] + right[3]\n",
        "    repeat_penalty = var_total - 1 if var_total > 1 else 0\n",
        "    #dispersion = (1 if (left[3] > 0 and right[3] > 0) else 0)\n",
        "\n",
        "    return (terms, parens, repeat_penalty) # (terms, parens, depth, repeat_penalty, dispersion)\n"
      ],
      "metadata": {
        "id": "-a8ln4d8fawk"
      },
      "execution_count": 30,
      "outputs": []
    },
    {
      "cell_type": "code",
      "source": [
        "eq1 = \"3*x+3*(x-2)-6*(x+(3-x))=6+2*x\"\n",
        "print(eq1, complexity_features_equation(eq1))"
      ],
      "metadata": {
        "colab": {
          "base_uri": "https://localhost:8080/"
        },
        "id": "3pd5-W-P8TOv",
        "outputId": "eb3b23ea-ea0a-430f-c5e1-5fcc62b18b9b"
      },
      "execution_count": 40,
      "outputs": [
        {
          "output_type": "stream",
          "name": "stdout",
          "text": [
            "3*x+3*(x-2)-6*(x+(3-x))=6+2*x (10, 6, 4)\n"
          ]
        }
      ]
    },
    {
      "cell_type": "code",
      "source": [
        "eq1 = \"3*x+3*(x-2)-6*(x+(3-x))-2*x=6+2*x-2*x\"\n",
        "print(eq1, complexity_features_equation(eq1))"
      ],
      "metadata": {
        "colab": {
          "base_uri": "https://localhost:8080/"
        },
        "id": "M4zrBvHIe_hE",
        "outputId": "f687ec0b-bf76-43d8-cec6-60b8379e59f8"
      },
      "execution_count": 31,
      "outputs": [
        {
          "output_type": "stream",
          "name": "stdout",
          "text": [
            "3*x+3*(x-2)-6*(x+(3-x))-2*x=6+2*x-2*x (14, 6, 6)\n"
          ]
        }
      ]
    },
    {
      "cell_type": "code",
      "source": [
        "eq1 = \"3*x+3*(x-2)-6*(x+(3-x))-2*x=6+0\"\n",
        "print(eq1, complexity_features_equation(eq1))"
      ],
      "metadata": {
        "colab": {
          "base_uri": "https://localhost:8080/"
        },
        "id": "gWoHopIJe_d8",
        "outputId": "2504c6d8-c221-4558-d242-d9a4712d1beb"
      },
      "execution_count": 32,
      "outputs": [
        {
          "output_type": "stream",
          "name": "stdout",
          "text": [
            "3*x+3*(x-2)-6*(x+(3-x))-2*x=6+0 (11, 6, 4)\n"
          ]
        }
      ]
    },
    {
      "cell_type": "code",
      "source": [
        "eq1 = \"3*x+3*(x-2)-6*(x+(3-x))-2*x=6\"\n",
        "print(eq1, complexity_features_equation(eq1))"
      ],
      "metadata": {
        "colab": {
          "base_uri": "https://localhost:8080/"
        },
        "id": "6t_1EBlJe_aV",
        "outputId": "850031c3-8de1-480f-c2f5-1e2ad4e77534"
      },
      "execution_count": 33,
      "outputs": [
        {
          "output_type": "stream",
          "name": "stdout",
          "text": [
            "3*x+3*(x-2)-6*(x+(3-x))-2*x=6 (10, 6, 4)\n"
          ]
        }
      ]
    },
    {
      "cell_type": "code",
      "source": [
        "eq1 = \"3*x+3*x-2*3-6*(x+(3-x))-2*x=6\"\n",
        "print(eq1, complexity_features_equation(eq1))"
      ],
      "metadata": {
        "colab": {
          "base_uri": "https://localhost:8080/"
        },
        "id": "oNrOaZmZeQO6",
        "outputId": "ab7dc99d-77a9-44d7-944a-c7c5edcdd031"
      },
      "execution_count": 34,
      "outputs": [
        {
          "output_type": "stream",
          "name": "stdout",
          "text": [
            "3*x+3*x-2*3-6*(x+(3-x))-2*x=6 (11, 4, 4)\n"
          ]
        }
      ]
    },
    {
      "cell_type": "code",
      "source": [
        "eq1 = \"6*x-2*3-6*(x+(3-x))-2*x=6\"\n",
        "print(eq1, complexity_features_equation(eq1))"
      ],
      "metadata": {
        "colab": {
          "base_uri": "https://localhost:8080/"
        },
        "id": "g0ndW979eQLh",
        "outputId": "b5a41a26-c200-452a-850a-508fcdd65172"
      },
      "execution_count": 35,
      "outputs": [
        {
          "output_type": "stream",
          "name": "stdout",
          "text": [
            "6*x-2*3-6*(x+(3-x))-2*x=6 (9, 4, 3)\n"
          ]
        }
      ]
    },
    {
      "cell_type": "code",
      "source": [
        "eq1 = \"6*x-2*3-6*(x+3-x)-2*x=6\"\n",
        "print(eq1, complexity_features_equation(eq1))"
      ],
      "metadata": {
        "colab": {
          "base_uri": "https://localhost:8080/"
        },
        "id": "fyxg3fbfeQIm",
        "outputId": "e72551be-cc6e-45ef-be37-758806bd8823"
      },
      "execution_count": 36,
      "outputs": [
        {
          "output_type": "stream",
          "name": "stdout",
          "text": [
            "6*x-2*3-6*(x+3-x)-2*x=6 (9, 2, 3)\n"
          ]
        }
      ]
    },
    {
      "cell_type": "code",
      "source": [
        "eq1 = \"6*x-2*3-6*x-18+6*x-2*x=6\"\n",
        "print(eq1, complexity_features_equation(eq1))"
      ],
      "metadata": {
        "colab": {
          "base_uri": "https://localhost:8080/"
        },
        "id": "haN-tuRseQFm",
        "outputId": "f51354fb-4539-4db2-e840-a856147bdd00"
      },
      "execution_count": 37,
      "outputs": [
        {
          "output_type": "stream",
          "name": "stdout",
          "text": [
            "6*x-2*3-6*x-18+6*x-2*x=6 (10, 0, 3)\n"
          ]
        }
      ]
    },
    {
      "cell_type": "code",
      "source": [
        "eq1 = \"6*x-2*3-6*x-18+6*x-2*x=6\"\n",
        "print(eq1, complexity_features_equation(eq1))"
      ],
      "metadata": {
        "id": "BDfPOa-weQCb",
        "colab": {
          "base_uri": "https://localhost:8080/"
        },
        "outputId": "da0c12eb-e8af-4796-a3bc-cd8db501122e"
      },
      "execution_count": 38,
      "outputs": [
        {
          "output_type": "stream",
          "name": "stdout",
          "text": [
            "6*x-2*3-6*x-18+6*x-2*x=6 (10, 0, 3)\n"
          ]
        }
      ]
    },
    {
      "cell_type": "code",
      "source": [
        "eq1 = \"6*x-2*3-6*x-18+6*x-2*x=6\"\n",
        "print(eq1, complexity_features_equation(eq1))"
      ],
      "metadata": {
        "id": "Hp8TW-DgeP_T",
        "colab": {
          "base_uri": "https://localhost:8080/"
        },
        "outputId": "28643362-6868-47dd-d28f-4a11994f47d3"
      },
      "execution_count": 39,
      "outputs": [
        {
          "output_type": "stream",
          "name": "stdout",
          "text": [
            "6*x-2*3-6*x-18+6*x-2*x=6 (10, 0, 3)\n"
          ]
        }
      ]
    },
    {
      "cell_type": "code",
      "source": [],
      "metadata": {
        "id": "XzeqNIYKeP8R"
      },
      "execution_count": 39,
      "outputs": []
    },
    {
      "cell_type": "code",
      "source": [],
      "metadata": {
        "id": "nFVQobioeP5X"
      },
      "execution_count": 39,
      "outputs": []
    },
    {
      "cell_type": "code",
      "source": [],
      "metadata": {
        "id": "wCgX6r5UdN7N"
      },
      "execution_count": 39,
      "outputs": []
    }
  ]
}